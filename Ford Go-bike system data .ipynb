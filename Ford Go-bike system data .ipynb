{
 "cells": [
  {
   "cell_type": "markdown",
   "id": "chief-aberdeen",
   "metadata": {
    "slideshow": {
     "slide_type": "slide"
    }
   },
   "source": [
    "\n",
    "# Project: Ford Go-bike system data\n",
    "\n",
    "## Table of Contents\n",
    "<ul>\n",
    "<li><a href=\"#intro\">Introduction</a></li>\n",
    "<li><a href=\"#wrangling\">Data Wrangling</a></li>\n",
    "<li><a href=\"#Exploratory\">Exploratory Data Analysis</a></li>\n",
    "<li><a href=\"#Explanatory\">Explanatory</a></li>\n",
    "<li><a href=\"#conclusions\">Conclusions</a></li>\n",
    "</ul>"
   ]
  },
  {
   "cell_type": "markdown",
   "id": "living-softball",
   "metadata": {
    "slideshow": {
     "slide_type": "slide"
    }
   },
   "source": [
    "<a id='intro'></a>\n",
    "## Introduction\n",
    "\n",
    "> I will analyze and explore data from Ford Go-bike system Dataset , this data icludes information about individual rides made in a bike-sharing system covering the greater San Francisco Bay area. \n",
    "This data set contains information about 183,000 rides collected from bike-sharing system, including 16 different variables like ride duration, start & end times for each trib , location for start & end stations , gender , member birth year and and other atrractive information to be explored ."
   ]
  },
  {
   "cell_type": "code",
   "execution_count": 2,
   "id": "consecutive-syndrome",
   "metadata": {
    "slideshow": {
     "slide_type": "skip"
    }
   },
   "outputs": [],
   "source": [
    "import numpy as np\n",
    "import pandas as pd\n",
    "import matplotlib.pyplot as plt\n",
    "import seaborn as sb\n",
    "%matplotlib inline\n",
    "from scipy import stats\n",
    "import datetime\n"
   ]
  },
  {
   "cell_type": "markdown",
   "id": "fewer-adoption",
   "metadata": {
    "slideshow": {
     "slide_type": "slide"
    }
   },
   "source": [
    "<a id='wrangling'></a>\n",
    "## Data Wrangling"
   ]
  },
  {
   "cell_type": "code",
   "execution_count": 3,
   "id": "compound-literature",
   "metadata": {
    "slideshow": {
     "slide_type": "subslide"
    }
   },
   "outputs": [
    {
     "name": "stdout",
     "output_type": "stream",
     "text": [
      "(183412, 16)\n"
     ]
    },
    {
     "data": {
      "text/html": [
       "<div>\n",
       "<style scoped>\n",
       "    .dataframe tbody tr th:only-of-type {\n",
       "        vertical-align: middle;\n",
       "    }\n",
       "\n",
       "    .dataframe tbody tr th {\n",
       "        vertical-align: top;\n",
       "    }\n",
       "\n",
       "    .dataframe thead th {\n",
       "        text-align: right;\n",
       "    }\n",
       "</style>\n",
       "<table border=\"1\" class=\"dataframe\">\n",
       "  <thead>\n",
       "    <tr style=\"text-align: right;\">\n",
       "      <th></th>\n",
       "      <th>duration_sec</th>\n",
       "      <th>start_time</th>\n",
       "      <th>end_time</th>\n",
       "      <th>start_station_id</th>\n",
       "      <th>start_station_name</th>\n",
       "      <th>start_station_latitude</th>\n",
       "      <th>start_station_longitude</th>\n",
       "      <th>end_station_id</th>\n",
       "      <th>end_station_name</th>\n",
       "      <th>end_station_latitude</th>\n",
       "      <th>end_station_longitude</th>\n",
       "      <th>bike_id</th>\n",
       "      <th>user_type</th>\n",
       "      <th>member_birth_year</th>\n",
       "      <th>member_gender</th>\n",
       "      <th>bike_share_for_all_trip</th>\n",
       "    </tr>\n",
       "  </thead>\n",
       "  <tbody>\n",
       "    <tr>\n",
       "      <th>0</th>\n",
       "      <td>52185</td>\n",
       "      <td>2019-02-28 17:32:10.1450</td>\n",
       "      <td>2019-03-01 08:01:55.9750</td>\n",
       "      <td>21.0</td>\n",
       "      <td>Montgomery St BART Station (Market St at 2nd St)</td>\n",
       "      <td>37.789625</td>\n",
       "      <td>-122.400811</td>\n",
       "      <td>13.0</td>\n",
       "      <td>Commercial St at Montgomery St</td>\n",
       "      <td>37.794231</td>\n",
       "      <td>-122.402923</td>\n",
       "      <td>4902</td>\n",
       "      <td>Customer</td>\n",
       "      <td>1984.0</td>\n",
       "      <td>Male</td>\n",
       "      <td>No</td>\n",
       "    </tr>\n",
       "    <tr>\n",
       "      <th>1</th>\n",
       "      <td>42521</td>\n",
       "      <td>2019-02-28 18:53:21.7890</td>\n",
       "      <td>2019-03-01 06:42:03.0560</td>\n",
       "      <td>23.0</td>\n",
       "      <td>The Embarcadero at Steuart St</td>\n",
       "      <td>37.791464</td>\n",
       "      <td>-122.391034</td>\n",
       "      <td>81.0</td>\n",
       "      <td>Berry St at 4th St</td>\n",
       "      <td>37.775880</td>\n",
       "      <td>-122.393170</td>\n",
       "      <td>2535</td>\n",
       "      <td>Customer</td>\n",
       "      <td>NaN</td>\n",
       "      <td>NaN</td>\n",
       "      <td>No</td>\n",
       "    </tr>\n",
       "    <tr>\n",
       "      <th>2</th>\n",
       "      <td>61854</td>\n",
       "      <td>2019-02-28 12:13:13.2180</td>\n",
       "      <td>2019-03-01 05:24:08.1460</td>\n",
       "      <td>86.0</td>\n",
       "      <td>Market St at Dolores St</td>\n",
       "      <td>37.769305</td>\n",
       "      <td>-122.426826</td>\n",
       "      <td>3.0</td>\n",
       "      <td>Powell St BART Station (Market St at 4th St)</td>\n",
       "      <td>37.786375</td>\n",
       "      <td>-122.404904</td>\n",
       "      <td>5905</td>\n",
       "      <td>Customer</td>\n",
       "      <td>1972.0</td>\n",
       "      <td>Male</td>\n",
       "      <td>No</td>\n",
       "    </tr>\n",
       "    <tr>\n",
       "      <th>3</th>\n",
       "      <td>36490</td>\n",
       "      <td>2019-02-28 17:54:26.0100</td>\n",
       "      <td>2019-03-01 04:02:36.8420</td>\n",
       "      <td>375.0</td>\n",
       "      <td>Grove St at Masonic Ave</td>\n",
       "      <td>37.774836</td>\n",
       "      <td>-122.446546</td>\n",
       "      <td>70.0</td>\n",
       "      <td>Central Ave at Fell St</td>\n",
       "      <td>37.773311</td>\n",
       "      <td>-122.444293</td>\n",
       "      <td>6638</td>\n",
       "      <td>Subscriber</td>\n",
       "      <td>1989.0</td>\n",
       "      <td>Other</td>\n",
       "      <td>No</td>\n",
       "    </tr>\n",
       "    <tr>\n",
       "      <th>4</th>\n",
       "      <td>1585</td>\n",
       "      <td>2019-02-28 23:54:18.5490</td>\n",
       "      <td>2019-03-01 00:20:44.0740</td>\n",
       "      <td>7.0</td>\n",
       "      <td>Frank H Ogawa Plaza</td>\n",
       "      <td>37.804562</td>\n",
       "      <td>-122.271738</td>\n",
       "      <td>222.0</td>\n",
       "      <td>10th Ave at E 15th St</td>\n",
       "      <td>37.792714</td>\n",
       "      <td>-122.248780</td>\n",
       "      <td>4898</td>\n",
       "      <td>Subscriber</td>\n",
       "      <td>1974.0</td>\n",
       "      <td>Male</td>\n",
       "      <td>Yes</td>\n",
       "    </tr>\n",
       "  </tbody>\n",
       "</table>\n",
       "</div>"
      ],
      "text/plain": [
       "   duration_sec                start_time                  end_time  \\\n",
       "0         52185  2019-02-28 17:32:10.1450  2019-03-01 08:01:55.9750   \n",
       "1         42521  2019-02-28 18:53:21.7890  2019-03-01 06:42:03.0560   \n",
       "2         61854  2019-02-28 12:13:13.2180  2019-03-01 05:24:08.1460   \n",
       "3         36490  2019-02-28 17:54:26.0100  2019-03-01 04:02:36.8420   \n",
       "4          1585  2019-02-28 23:54:18.5490  2019-03-01 00:20:44.0740   \n",
       "\n",
       "   start_station_id                                start_station_name  \\\n",
       "0              21.0  Montgomery St BART Station (Market St at 2nd St)   \n",
       "1              23.0                     The Embarcadero at Steuart St   \n",
       "2              86.0                           Market St at Dolores St   \n",
       "3             375.0                           Grove St at Masonic Ave   \n",
       "4               7.0                               Frank H Ogawa Plaza   \n",
       "\n",
       "   start_station_latitude  start_station_longitude  end_station_id  \\\n",
       "0               37.789625              -122.400811            13.0   \n",
       "1               37.791464              -122.391034            81.0   \n",
       "2               37.769305              -122.426826             3.0   \n",
       "3               37.774836              -122.446546            70.0   \n",
       "4               37.804562              -122.271738           222.0   \n",
       "\n",
       "                               end_station_name  end_station_latitude  \\\n",
       "0                Commercial St at Montgomery St             37.794231   \n",
       "1                            Berry St at 4th St             37.775880   \n",
       "2  Powell St BART Station (Market St at 4th St)             37.786375   \n",
       "3                        Central Ave at Fell St             37.773311   \n",
       "4                         10th Ave at E 15th St             37.792714   \n",
       "\n",
       "   end_station_longitude  bike_id   user_type  member_birth_year  \\\n",
       "0            -122.402923     4902    Customer             1984.0   \n",
       "1            -122.393170     2535    Customer                NaN   \n",
       "2            -122.404904     5905    Customer             1972.0   \n",
       "3            -122.444293     6638  Subscriber             1989.0   \n",
       "4            -122.248780     4898  Subscriber             1974.0   \n",
       "\n",
       "  member_gender bike_share_for_all_trip  \n",
       "0          Male                      No  \n",
       "1           NaN                      No  \n",
       "2          Male                      No  \n",
       "3         Other                      No  \n",
       "4          Male                     Yes  "
      ]
     },
     "execution_count": 3,
     "metadata": {},
     "output_type": "execute_result"
    }
   ],
   "source": [
    "df = pd.read_csv('201902-fordgobike-tripdata.csv')\n",
    "print(df.shape)\n",
    "df.head()"
   ]
  },
  {
   "cell_type": "code",
   "execution_count": 4,
   "id": "electrical-classification",
   "metadata": {
    "slideshow": {
     "slide_type": "subslide"
    }
   },
   "outputs": [
    {
     "name": "stdout",
     "output_type": "stream",
     "text": [
      "<class 'pandas.core.frame.DataFrame'>\n",
      "RangeIndex: 183412 entries, 0 to 183411\n",
      "Data columns (total 16 columns):\n",
      " #   Column                   Non-Null Count   Dtype  \n",
      "---  ------                   --------------   -----  \n",
      " 0   duration_sec             183412 non-null  int64  \n",
      " 1   start_time               183412 non-null  object \n",
      " 2   end_time                 183412 non-null  object \n",
      " 3   start_station_id         183215 non-null  float64\n",
      " 4   start_station_name       183215 non-null  object \n",
      " 5   start_station_latitude   183412 non-null  float64\n",
      " 6   start_station_longitude  183412 non-null  float64\n",
      " 7   end_station_id           183215 non-null  float64\n",
      " 8   end_station_name         183215 non-null  object \n",
      " 9   end_station_latitude     183412 non-null  float64\n",
      " 10  end_station_longitude    183412 non-null  float64\n",
      " 11  bike_id                  183412 non-null  int64  \n",
      " 12  user_type                183412 non-null  object \n",
      " 13  member_birth_year        175147 non-null  float64\n",
      " 14  member_gender            175147 non-null  object \n",
      " 15  bike_share_for_all_trip  183412 non-null  object \n",
      "dtypes: float64(7), int64(2), object(7)\n",
      "memory usage: 22.4+ MB\n"
     ]
    }
   ],
   "source": [
    "df.info()"
   ]
  },
  {
   "cell_type": "markdown",
   "id": "healthy-melbourne",
   "metadata": {
    "slideshow": {
     "slide_type": "skip"
    }
   },
   "source": [
    "### To be clean\n",
    "- convert duration_sec to duration minutes\n",
    "- start & end time to date time \n",
    "- all ids to object\n",
    "- latitude and longitude to object\n",
    "- make new column to start and end stations location\n",
    "- user type category\n",
    "- birth year to object\n",
    "- gender to category\n",
    "- bike_share_for_all_trip to category"
   ]
  },
  {
   "cell_type": "code",
   "execution_count": 5,
   "id": "religious-puzzle",
   "metadata": {
    "scrolled": true,
    "slideshow": {
     "slide_type": "skip"
    }
   },
   "outputs": [
    {
     "data": {
      "text/html": [
       "<div>\n",
       "<style scoped>\n",
       "    .dataframe tbody tr th:only-of-type {\n",
       "        vertical-align: middle;\n",
       "    }\n",
       "\n",
       "    .dataframe tbody tr th {\n",
       "        vertical-align: top;\n",
       "    }\n",
       "\n",
       "    .dataframe thead th {\n",
       "        text-align: right;\n",
       "    }\n",
       "</style>\n",
       "<table border=\"1\" class=\"dataframe\">\n",
       "  <thead>\n",
       "    <tr style=\"text-align: right;\">\n",
       "      <th></th>\n",
       "      <th>duration_sec</th>\n",
       "      <th>start_station_id</th>\n",
       "      <th>start_station_latitude</th>\n",
       "      <th>start_station_longitude</th>\n",
       "      <th>end_station_id</th>\n",
       "      <th>end_station_latitude</th>\n",
       "      <th>end_station_longitude</th>\n",
       "      <th>bike_id</th>\n",
       "      <th>member_birth_year</th>\n",
       "    </tr>\n",
       "  </thead>\n",
       "  <tbody>\n",
       "    <tr>\n",
       "      <th>count</th>\n",
       "      <td>183412.000000</td>\n",
       "      <td>183215.000000</td>\n",
       "      <td>183412.000000</td>\n",
       "      <td>183412.000000</td>\n",
       "      <td>183215.000000</td>\n",
       "      <td>183412.000000</td>\n",
       "      <td>183412.000000</td>\n",
       "      <td>183412.000000</td>\n",
       "      <td>175147.000000</td>\n",
       "    </tr>\n",
       "    <tr>\n",
       "      <th>mean</th>\n",
       "      <td>726.078435</td>\n",
       "      <td>138.590427</td>\n",
       "      <td>37.771223</td>\n",
       "      <td>-122.352664</td>\n",
       "      <td>136.249123</td>\n",
       "      <td>37.771427</td>\n",
       "      <td>-122.352250</td>\n",
       "      <td>4472.906375</td>\n",
       "      <td>1984.806437</td>\n",
       "    </tr>\n",
       "    <tr>\n",
       "      <th>std</th>\n",
       "      <td>1794.389780</td>\n",
       "      <td>111.778864</td>\n",
       "      <td>0.099581</td>\n",
       "      <td>0.117097</td>\n",
       "      <td>111.515131</td>\n",
       "      <td>0.099490</td>\n",
       "      <td>0.116673</td>\n",
       "      <td>1664.383394</td>\n",
       "      <td>10.116689</td>\n",
       "    </tr>\n",
       "    <tr>\n",
       "      <th>min</th>\n",
       "      <td>61.000000</td>\n",
       "      <td>3.000000</td>\n",
       "      <td>37.317298</td>\n",
       "      <td>-122.453704</td>\n",
       "      <td>3.000000</td>\n",
       "      <td>37.317298</td>\n",
       "      <td>-122.453704</td>\n",
       "      <td>11.000000</td>\n",
       "      <td>1878.000000</td>\n",
       "    </tr>\n",
       "    <tr>\n",
       "      <th>25%</th>\n",
       "      <td>325.000000</td>\n",
       "      <td>47.000000</td>\n",
       "      <td>37.770083</td>\n",
       "      <td>-122.412408</td>\n",
       "      <td>44.000000</td>\n",
       "      <td>37.770407</td>\n",
       "      <td>-122.411726</td>\n",
       "      <td>3777.000000</td>\n",
       "      <td>1980.000000</td>\n",
       "    </tr>\n",
       "    <tr>\n",
       "      <th>50%</th>\n",
       "      <td>514.000000</td>\n",
       "      <td>104.000000</td>\n",
       "      <td>37.780760</td>\n",
       "      <td>-122.398285</td>\n",
       "      <td>100.000000</td>\n",
       "      <td>37.781010</td>\n",
       "      <td>-122.398279</td>\n",
       "      <td>4958.000000</td>\n",
       "      <td>1987.000000</td>\n",
       "    </tr>\n",
       "    <tr>\n",
       "      <th>75%</th>\n",
       "      <td>796.000000</td>\n",
       "      <td>239.000000</td>\n",
       "      <td>37.797280</td>\n",
       "      <td>-122.286533</td>\n",
       "      <td>235.000000</td>\n",
       "      <td>37.797320</td>\n",
       "      <td>-122.288045</td>\n",
       "      <td>5502.000000</td>\n",
       "      <td>1992.000000</td>\n",
       "    </tr>\n",
       "    <tr>\n",
       "      <th>max</th>\n",
       "      <td>85444.000000</td>\n",
       "      <td>398.000000</td>\n",
       "      <td>37.880222</td>\n",
       "      <td>-121.874119</td>\n",
       "      <td>398.000000</td>\n",
       "      <td>37.880222</td>\n",
       "      <td>-121.874119</td>\n",
       "      <td>6645.000000</td>\n",
       "      <td>2001.000000</td>\n",
       "    </tr>\n",
       "  </tbody>\n",
       "</table>\n",
       "</div>"
      ],
      "text/plain": [
       "        duration_sec  start_station_id  start_station_latitude  \\\n",
       "count  183412.000000     183215.000000           183412.000000   \n",
       "mean      726.078435        138.590427               37.771223   \n",
       "std      1794.389780        111.778864                0.099581   \n",
       "min        61.000000          3.000000               37.317298   \n",
       "25%       325.000000         47.000000               37.770083   \n",
       "50%       514.000000        104.000000               37.780760   \n",
       "75%       796.000000        239.000000               37.797280   \n",
       "max     85444.000000        398.000000               37.880222   \n",
       "\n",
       "       start_station_longitude  end_station_id  end_station_latitude  \\\n",
       "count            183412.000000   183215.000000         183412.000000   \n",
       "mean               -122.352664      136.249123             37.771427   \n",
       "std                   0.117097      111.515131              0.099490   \n",
       "min                -122.453704        3.000000             37.317298   \n",
       "25%                -122.412408       44.000000             37.770407   \n",
       "50%                -122.398285      100.000000             37.781010   \n",
       "75%                -122.286533      235.000000             37.797320   \n",
       "max                -121.874119      398.000000             37.880222   \n",
       "\n",
       "       end_station_longitude        bike_id  member_birth_year  \n",
       "count          183412.000000  183412.000000      175147.000000  \n",
       "mean             -122.352250    4472.906375        1984.806437  \n",
       "std                 0.116673    1664.383394          10.116689  \n",
       "min              -122.453704      11.000000        1878.000000  \n",
       "25%              -122.411726    3777.000000        1980.000000  \n",
       "50%              -122.398279    4958.000000        1987.000000  \n",
       "75%              -122.288045    5502.000000        1992.000000  \n",
       "max              -121.874119    6645.000000        2001.000000  "
      ]
     },
     "execution_count": 5,
     "metadata": {},
     "output_type": "execute_result"
    }
   ],
   "source": [
    "df.describe()"
   ]
  },
  {
   "cell_type": "code",
   "execution_count": 6,
   "id": "distinguished-distributor",
   "metadata": {
    "slideshow": {
     "slide_type": "skip"
    }
   },
   "outputs": [
    {
     "data": {
      "text/plain": [
       "169882       61\n",
       "157305       61\n",
       "103565       61\n",
       "44787        61\n",
       "44301        61\n",
       "          ...  \n",
       "112435    83407\n",
       "127999    83519\n",
       "153705    83772\n",
       "85465     84548\n",
       "101361    85444\n",
       "Name: duration_sec, Length: 183412, dtype: int64"
      ]
     },
     "execution_count": 6,
     "metadata": {},
     "output_type": "execute_result"
    }
   ],
   "source": [
    "df.duration_sec.sort_values(ascending = True)"
   ]
  },
  {
   "cell_type": "code",
   "execution_count": 7,
   "id": "social-prospect",
   "metadata": {
    "slideshow": {
     "slide_type": "skip"
    }
   },
   "outputs": [
    {
     "data": {
      "text/html": [
       "<div>\n",
       "<style scoped>\n",
       "    .dataframe tbody tr th:only-of-type {\n",
       "        vertical-align: middle;\n",
       "    }\n",
       "\n",
       "    .dataframe tbody tr th {\n",
       "        vertical-align: top;\n",
       "    }\n",
       "\n",
       "    .dataframe thead th {\n",
       "        text-align: right;\n",
       "    }\n",
       "</style>\n",
       "<table border=\"1\" class=\"dataframe\">\n",
       "  <thead>\n",
       "    <tr style=\"text-align: right;\">\n",
       "      <th></th>\n",
       "      <th>duration_sec</th>\n",
       "      <th>start_time</th>\n",
       "      <th>end_time</th>\n",
       "      <th>start_station_id</th>\n",
       "      <th>start_station_name</th>\n",
       "      <th>start_station_latitude</th>\n",
       "      <th>start_station_longitude</th>\n",
       "      <th>end_station_id</th>\n",
       "      <th>end_station_name</th>\n",
       "      <th>end_station_latitude</th>\n",
       "      <th>end_station_longitude</th>\n",
       "      <th>bike_id</th>\n",
       "      <th>user_type</th>\n",
       "      <th>member_birth_year</th>\n",
       "      <th>member_gender</th>\n",
       "      <th>bike_share_for_all_trip</th>\n",
       "    </tr>\n",
       "  </thead>\n",
       "  <tbody>\n",
       "    <tr>\n",
       "      <th>1285</th>\n",
       "      <td>148</td>\n",
       "      <td>2019-02-28 19:29:17.6270</td>\n",
       "      <td>2019-02-28 19:31:45.9670</td>\n",
       "      <td>158.0</td>\n",
       "      <td>Shattuck Ave at Telegraph Ave</td>\n",
       "      <td>37.833279</td>\n",
       "      <td>-122.263490</td>\n",
       "      <td>173.0</td>\n",
       "      <td>Shattuck Ave at 55th St</td>\n",
       "      <td>37.840364</td>\n",
       "      <td>-122.264488</td>\n",
       "      <td>5391</td>\n",
       "      <td>Subscriber</td>\n",
       "      <td>1900.0</td>\n",
       "      <td>Male</td>\n",
       "      <td>Yes</td>\n",
       "    </tr>\n",
       "    <tr>\n",
       "      <th>10827</th>\n",
       "      <td>1315</td>\n",
       "      <td>2019-02-27 19:21:34.4360</td>\n",
       "      <td>2019-02-27 19:43:30.0080</td>\n",
       "      <td>343.0</td>\n",
       "      <td>Bryant St at 2nd St</td>\n",
       "      <td>37.783172</td>\n",
       "      <td>-122.393572</td>\n",
       "      <td>375.0</td>\n",
       "      <td>Grove St at Masonic Ave</td>\n",
       "      <td>37.774836</td>\n",
       "      <td>-122.446546</td>\n",
       "      <td>6249</td>\n",
       "      <td>Subscriber</td>\n",
       "      <td>1900.0</td>\n",
       "      <td>Male</td>\n",
       "      <td>No</td>\n",
       "    </tr>\n",
       "    <tr>\n",
       "      <th>16087</th>\n",
       "      <td>1131</td>\n",
       "      <td>2019-02-27 08:37:36.8640</td>\n",
       "      <td>2019-02-27 08:56:28.0220</td>\n",
       "      <td>375.0</td>\n",
       "      <td>Grove St at Masonic Ave</td>\n",
       "      <td>37.774836</td>\n",
       "      <td>-122.446546</td>\n",
       "      <td>36.0</td>\n",
       "      <td>Folsom St at 3rd St</td>\n",
       "      <td>37.783830</td>\n",
       "      <td>-122.398870</td>\n",
       "      <td>4968</td>\n",
       "      <td>Subscriber</td>\n",
       "      <td>1900.0</td>\n",
       "      <td>Male</td>\n",
       "      <td>No</td>\n",
       "    </tr>\n",
       "    <tr>\n",
       "      <th>19375</th>\n",
       "      <td>641</td>\n",
       "      <td>2019-02-26 17:03:19.8550</td>\n",
       "      <td>2019-02-26 17:14:01.6190</td>\n",
       "      <td>9.0</td>\n",
       "      <td>Broadway at Battery St</td>\n",
       "      <td>37.798572</td>\n",
       "      <td>-122.400869</td>\n",
       "      <td>30.0</td>\n",
       "      <td>San Francisco Caltrain (Townsend St at 4th St)</td>\n",
       "      <td>37.776598</td>\n",
       "      <td>-122.395282</td>\n",
       "      <td>6164</td>\n",
       "      <td>Customer</td>\n",
       "      <td>1900.0</td>\n",
       "      <td>Male</td>\n",
       "      <td>No</td>\n",
       "    </tr>\n",
       "    <tr>\n",
       "      <th>21424</th>\n",
       "      <td>1424</td>\n",
       "      <td>2019-02-26 08:58:02.9040</td>\n",
       "      <td>2019-02-26 09:21:47.7490</td>\n",
       "      <td>375.0</td>\n",
       "      <td>Grove St at Masonic Ave</td>\n",
       "      <td>37.774836</td>\n",
       "      <td>-122.446546</td>\n",
       "      <td>343.0</td>\n",
       "      <td>Bryant St at 2nd St</td>\n",
       "      <td>37.783172</td>\n",
       "      <td>-122.393572</td>\n",
       "      <td>5344</td>\n",
       "      <td>Subscriber</td>\n",
       "      <td>1900.0</td>\n",
       "      <td>Male</td>\n",
       "      <td>No</td>\n",
       "    </tr>\n",
       "    <tr>\n",
       "      <th>...</th>\n",
       "      <td>...</td>\n",
       "      <td>...</td>\n",
       "      <td>...</td>\n",
       "      <td>...</td>\n",
       "      <td>...</td>\n",
       "      <td>...</td>\n",
       "      <td>...</td>\n",
       "      <td>...</td>\n",
       "      <td>...</td>\n",
       "      <td>...</td>\n",
       "      <td>...</td>\n",
       "      <td>...</td>\n",
       "      <td>...</td>\n",
       "      <td>...</td>\n",
       "      <td>...</td>\n",
       "      <td>...</td>\n",
       "    </tr>\n",
       "    <tr>\n",
       "      <th>171996</th>\n",
       "      <td>1368</td>\n",
       "      <td>2019-02-03 17:33:54.6070</td>\n",
       "      <td>2019-02-03 17:56:42.9490</td>\n",
       "      <td>37.0</td>\n",
       "      <td>2nd St at Folsom St</td>\n",
       "      <td>37.785000</td>\n",
       "      <td>-122.395936</td>\n",
       "      <td>375.0</td>\n",
       "      <td>Grove St at Masonic Ave</td>\n",
       "      <td>37.774836</td>\n",
       "      <td>-122.446546</td>\n",
       "      <td>4988</td>\n",
       "      <td>Subscriber</td>\n",
       "      <td>1900.0</td>\n",
       "      <td>Male</td>\n",
       "      <td>No</td>\n",
       "    </tr>\n",
       "    <tr>\n",
       "      <th>173711</th>\n",
       "      <td>993</td>\n",
       "      <td>2019-02-03 09:45:30.4640</td>\n",
       "      <td>2019-02-03 10:02:04.1690</td>\n",
       "      <td>375.0</td>\n",
       "      <td>Grove St at Masonic Ave</td>\n",
       "      <td>37.774836</td>\n",
       "      <td>-122.446546</td>\n",
       "      <td>36.0</td>\n",
       "      <td>Folsom St at 3rd St</td>\n",
       "      <td>37.783830</td>\n",
       "      <td>-122.398870</td>\n",
       "      <td>5445</td>\n",
       "      <td>Subscriber</td>\n",
       "      <td>1900.0</td>\n",
       "      <td>Male</td>\n",
       "      <td>No</td>\n",
       "    </tr>\n",
       "    <tr>\n",
       "      <th>177708</th>\n",
       "      <td>1527</td>\n",
       "      <td>2019-02-01 19:09:28.3870</td>\n",
       "      <td>2019-02-01 19:34:55.9630</td>\n",
       "      <td>343.0</td>\n",
       "      <td>Bryant St at 2nd St</td>\n",
       "      <td>37.783172</td>\n",
       "      <td>-122.393572</td>\n",
       "      <td>375.0</td>\n",
       "      <td>Grove St at Masonic Ave</td>\n",
       "      <td>37.774836</td>\n",
       "      <td>-122.446546</td>\n",
       "      <td>5286</td>\n",
       "      <td>Subscriber</td>\n",
       "      <td>1900.0</td>\n",
       "      <td>Male</td>\n",
       "      <td>No</td>\n",
       "    </tr>\n",
       "    <tr>\n",
       "      <th>177885</th>\n",
       "      <td>517</td>\n",
       "      <td>2019-02-01 18:38:40.4710</td>\n",
       "      <td>2019-02-01 18:47:18.3920</td>\n",
       "      <td>25.0</td>\n",
       "      <td>Howard St at 2nd St</td>\n",
       "      <td>37.787522</td>\n",
       "      <td>-122.397405</td>\n",
       "      <td>30.0</td>\n",
       "      <td>San Francisco Caltrain (Townsend St at 4th St)</td>\n",
       "      <td>37.776598</td>\n",
       "      <td>-122.395282</td>\n",
       "      <td>2175</td>\n",
       "      <td>Subscriber</td>\n",
       "      <td>1902.0</td>\n",
       "      <td>Female</td>\n",
       "      <td>No</td>\n",
       "    </tr>\n",
       "    <tr>\n",
       "      <th>182830</th>\n",
       "      <td>428</td>\n",
       "      <td>2019-02-01 07:45:05.9340</td>\n",
       "      <td>2019-02-01 07:52:14.9220</td>\n",
       "      <td>284.0</td>\n",
       "      <td>Yerba Buena Center for the Arts (Howard St at ...</td>\n",
       "      <td>37.784872</td>\n",
       "      <td>-122.400876</td>\n",
       "      <td>67.0</td>\n",
       "      <td>San Francisco Caltrain Station 2  (Townsend St...</td>\n",
       "      <td>37.776639</td>\n",
       "      <td>-122.395526</td>\n",
       "      <td>5031</td>\n",
       "      <td>Subscriber</td>\n",
       "      <td>1901.0</td>\n",
       "      <td>Male</td>\n",
       "      <td>No</td>\n",
       "    </tr>\n",
       "  </tbody>\n",
       "</table>\n",
       "<p>72 rows × 16 columns</p>\n",
       "</div>"
      ],
      "text/plain": [
       "        duration_sec                start_time                  end_time  \\\n",
       "1285             148  2019-02-28 19:29:17.6270  2019-02-28 19:31:45.9670   \n",
       "10827           1315  2019-02-27 19:21:34.4360  2019-02-27 19:43:30.0080   \n",
       "16087           1131  2019-02-27 08:37:36.8640  2019-02-27 08:56:28.0220   \n",
       "19375            641  2019-02-26 17:03:19.8550  2019-02-26 17:14:01.6190   \n",
       "21424           1424  2019-02-26 08:58:02.9040  2019-02-26 09:21:47.7490   \n",
       "...              ...                       ...                       ...   \n",
       "171996          1368  2019-02-03 17:33:54.6070  2019-02-03 17:56:42.9490   \n",
       "173711           993  2019-02-03 09:45:30.4640  2019-02-03 10:02:04.1690   \n",
       "177708          1527  2019-02-01 19:09:28.3870  2019-02-01 19:34:55.9630   \n",
       "177885           517  2019-02-01 18:38:40.4710  2019-02-01 18:47:18.3920   \n",
       "182830           428  2019-02-01 07:45:05.9340  2019-02-01 07:52:14.9220   \n",
       "\n",
       "        start_station_id                                 start_station_name  \\\n",
       "1285               158.0                      Shattuck Ave at Telegraph Ave   \n",
       "10827              343.0                                Bryant St at 2nd St   \n",
       "16087              375.0                            Grove St at Masonic Ave   \n",
       "19375                9.0                             Broadway at Battery St   \n",
       "21424              375.0                            Grove St at Masonic Ave   \n",
       "...                  ...                                                ...   \n",
       "171996              37.0                                2nd St at Folsom St   \n",
       "173711             375.0                            Grove St at Masonic Ave   \n",
       "177708             343.0                                Bryant St at 2nd St   \n",
       "177885              25.0                                Howard St at 2nd St   \n",
       "182830             284.0  Yerba Buena Center for the Arts (Howard St at ...   \n",
       "\n",
       "        start_station_latitude  start_station_longitude  end_station_id  \\\n",
       "1285                 37.833279              -122.263490           173.0   \n",
       "10827                37.783172              -122.393572           375.0   \n",
       "16087                37.774836              -122.446546            36.0   \n",
       "19375                37.798572              -122.400869            30.0   \n",
       "21424                37.774836              -122.446546           343.0   \n",
       "...                        ...                      ...             ...   \n",
       "171996               37.785000              -122.395936           375.0   \n",
       "173711               37.774836              -122.446546            36.0   \n",
       "177708               37.783172              -122.393572           375.0   \n",
       "177885               37.787522              -122.397405            30.0   \n",
       "182830               37.784872              -122.400876            67.0   \n",
       "\n",
       "                                         end_station_name  \\\n",
       "1285                              Shattuck Ave at 55th St   \n",
       "10827                             Grove St at Masonic Ave   \n",
       "16087                                 Folsom St at 3rd St   \n",
       "19375      San Francisco Caltrain (Townsend St at 4th St)   \n",
       "21424                                 Bryant St at 2nd St   \n",
       "...                                                   ...   \n",
       "171996                            Grove St at Masonic Ave   \n",
       "173711                                Folsom St at 3rd St   \n",
       "177708                            Grove St at Masonic Ave   \n",
       "177885     San Francisco Caltrain (Townsend St at 4th St)   \n",
       "182830  San Francisco Caltrain Station 2  (Townsend St...   \n",
       "\n",
       "        end_station_latitude  end_station_longitude  bike_id   user_type  \\\n",
       "1285               37.840364            -122.264488     5391  Subscriber   \n",
       "10827              37.774836            -122.446546     6249  Subscriber   \n",
       "16087              37.783830            -122.398870     4968  Subscriber   \n",
       "19375              37.776598            -122.395282     6164    Customer   \n",
       "21424              37.783172            -122.393572     5344  Subscriber   \n",
       "...                      ...                    ...      ...         ...   \n",
       "171996             37.774836            -122.446546     4988  Subscriber   \n",
       "173711             37.783830            -122.398870     5445  Subscriber   \n",
       "177708             37.774836            -122.446546     5286  Subscriber   \n",
       "177885             37.776598            -122.395282     2175  Subscriber   \n",
       "182830             37.776639            -122.395526     5031  Subscriber   \n",
       "\n",
       "        member_birth_year member_gender bike_share_for_all_trip  \n",
       "1285               1900.0          Male                     Yes  \n",
       "10827              1900.0          Male                      No  \n",
       "16087              1900.0          Male                      No  \n",
       "19375              1900.0          Male                      No  \n",
       "21424              1900.0          Male                      No  \n",
       "...                   ...           ...                     ...  \n",
       "171996             1900.0          Male                      No  \n",
       "173711             1900.0          Male                      No  \n",
       "177708             1900.0          Male                      No  \n",
       "177885             1902.0        Female                      No  \n",
       "182830             1901.0          Male                      No  \n",
       "\n",
       "[72 rows x 16 columns]"
      ]
     },
     "execution_count": 7,
     "metadata": {},
     "output_type": "execute_result"
    }
   ],
   "source": [
    "df[df['member_birth_year'] < 1919]  #unlogic #convert to nan."
   ]
  },
  {
   "cell_type": "code",
   "execution_count": 8,
   "id": "regional-diary",
   "metadata": {
    "slideshow": {
     "slide_type": "skip"
    }
   },
   "outputs": [
    {
     "data": {
      "text/html": [
       "<div>\n",
       "<style scoped>\n",
       "    .dataframe tbody tr th:only-of-type {\n",
       "        vertical-align: middle;\n",
       "    }\n",
       "\n",
       "    .dataframe tbody tr th {\n",
       "        vertical-align: top;\n",
       "    }\n",
       "\n",
       "    .dataframe thead th {\n",
       "        text-align: right;\n",
       "    }\n",
       "</style>\n",
       "<table border=\"1\" class=\"dataframe\">\n",
       "  <thead>\n",
       "    <tr style=\"text-align: right;\">\n",
       "      <th></th>\n",
       "      <th>duration_sec</th>\n",
       "      <th>start_time</th>\n",
       "      <th>end_time</th>\n",
       "      <th>start_station_id</th>\n",
       "      <th>start_station_name</th>\n",
       "      <th>start_station_latitude</th>\n",
       "      <th>start_station_longitude</th>\n",
       "      <th>end_station_id</th>\n",
       "      <th>end_station_name</th>\n",
       "      <th>end_station_latitude</th>\n",
       "      <th>end_station_longitude</th>\n",
       "      <th>bike_id</th>\n",
       "      <th>user_type</th>\n",
       "      <th>member_birth_year</th>\n",
       "      <th>member_gender</th>\n",
       "      <th>bike_share_for_all_trip</th>\n",
       "    </tr>\n",
       "  </thead>\n",
       "  <tbody>\n",
       "    <tr>\n",
       "      <th>475</th>\n",
       "      <td>1709</td>\n",
       "      <td>2019-02-28 20:55:53.9320</td>\n",
       "      <td>2019-02-28 21:24:23.7380</td>\n",
       "      <td>NaN</td>\n",
       "      <td>NaN</td>\n",
       "      <td>37.40</td>\n",
       "      <td>-121.94</td>\n",
       "      <td>NaN</td>\n",
       "      <td>NaN</td>\n",
       "      <td>37.40</td>\n",
       "      <td>-121.93</td>\n",
       "      <td>4211</td>\n",
       "      <td>Customer</td>\n",
       "      <td>1991.0</td>\n",
       "      <td>Female</td>\n",
       "      <td>No</td>\n",
       "    </tr>\n",
       "    <tr>\n",
       "      <th>1733</th>\n",
       "      <td>1272</td>\n",
       "      <td>2019-02-28 18:32:34.2730</td>\n",
       "      <td>2019-02-28 18:53:46.7270</td>\n",
       "      <td>NaN</td>\n",
       "      <td>NaN</td>\n",
       "      <td>37.40</td>\n",
       "      <td>-121.94</td>\n",
       "      <td>NaN</td>\n",
       "      <td>NaN</td>\n",
       "      <td>37.41</td>\n",
       "      <td>-121.96</td>\n",
       "      <td>4174</td>\n",
       "      <td>Subscriber</td>\n",
       "      <td>1980.0</td>\n",
       "      <td>Male</td>\n",
       "      <td>No</td>\n",
       "    </tr>\n",
       "    <tr>\n",
       "      <th>3625</th>\n",
       "      <td>142</td>\n",
       "      <td>2019-02-28 17:10:46.5290</td>\n",
       "      <td>2019-02-28 17:13:09.4310</td>\n",
       "      <td>NaN</td>\n",
       "      <td>NaN</td>\n",
       "      <td>37.41</td>\n",
       "      <td>-121.95</td>\n",
       "      <td>NaN</td>\n",
       "      <td>NaN</td>\n",
       "      <td>37.41</td>\n",
       "      <td>-121.96</td>\n",
       "      <td>4283</td>\n",
       "      <td>Subscriber</td>\n",
       "      <td>1988.0</td>\n",
       "      <td>Male</td>\n",
       "      <td>No</td>\n",
       "    </tr>\n",
       "    <tr>\n",
       "      <th>4070</th>\n",
       "      <td>585</td>\n",
       "      <td>2019-02-28 16:28:45.9340</td>\n",
       "      <td>2019-02-28 16:38:31.3320</td>\n",
       "      <td>NaN</td>\n",
       "      <td>NaN</td>\n",
       "      <td>37.39</td>\n",
       "      <td>-121.93</td>\n",
       "      <td>NaN</td>\n",
       "      <td>NaN</td>\n",
       "      <td>37.40</td>\n",
       "      <td>-121.92</td>\n",
       "      <td>4089</td>\n",
       "      <td>Subscriber</td>\n",
       "      <td>1984.0</td>\n",
       "      <td>Male</td>\n",
       "      <td>Yes</td>\n",
       "    </tr>\n",
       "    <tr>\n",
       "      <th>5654</th>\n",
       "      <td>509</td>\n",
       "      <td>2019-02-28 12:30:17.1310</td>\n",
       "      <td>2019-02-28 12:38:46.3290</td>\n",
       "      <td>NaN</td>\n",
       "      <td>NaN</td>\n",
       "      <td>37.40</td>\n",
       "      <td>-121.92</td>\n",
       "      <td>NaN</td>\n",
       "      <td>NaN</td>\n",
       "      <td>37.39</td>\n",
       "      <td>-121.93</td>\n",
       "      <td>4089</td>\n",
       "      <td>Subscriber</td>\n",
       "      <td>1984.0</td>\n",
       "      <td>Male</td>\n",
       "      <td>Yes</td>\n",
       "    </tr>\n",
       "    <tr>\n",
       "      <th>...</th>\n",
       "      <td>...</td>\n",
       "      <td>...</td>\n",
       "      <td>...</td>\n",
       "      <td>...</td>\n",
       "      <td>...</td>\n",
       "      <td>...</td>\n",
       "      <td>...</td>\n",
       "      <td>...</td>\n",
       "      <td>...</td>\n",
       "      <td>...</td>\n",
       "      <td>...</td>\n",
       "      <td>...</td>\n",
       "      <td>...</td>\n",
       "      <td>...</td>\n",
       "      <td>...</td>\n",
       "      <td>...</td>\n",
       "    </tr>\n",
       "    <tr>\n",
       "      <th>176154</th>\n",
       "      <td>1447</td>\n",
       "      <td>2019-02-02 12:03:04.5440</td>\n",
       "      <td>2019-02-02 12:27:12.2670</td>\n",
       "      <td>NaN</td>\n",
       "      <td>NaN</td>\n",
       "      <td>37.40</td>\n",
       "      <td>-121.93</td>\n",
       "      <td>NaN</td>\n",
       "      <td>NaN</td>\n",
       "      <td>37.40</td>\n",
       "      <td>-121.93</td>\n",
       "      <td>4249</td>\n",
       "      <td>Customer</td>\n",
       "      <td>1984.0</td>\n",
       "      <td>Male</td>\n",
       "      <td>No</td>\n",
       "    </tr>\n",
       "    <tr>\n",
       "      <th>179730</th>\n",
       "      <td>309</td>\n",
       "      <td>2019-02-01 12:59:45.9690</td>\n",
       "      <td>2019-02-01 13:04:55.4260</td>\n",
       "      <td>NaN</td>\n",
       "      <td>NaN</td>\n",
       "      <td>37.40</td>\n",
       "      <td>-121.94</td>\n",
       "      <td>NaN</td>\n",
       "      <td>NaN</td>\n",
       "      <td>37.40</td>\n",
       "      <td>-121.93</td>\n",
       "      <td>4249</td>\n",
       "      <td>Customer</td>\n",
       "      <td>1987.0</td>\n",
       "      <td>Female</td>\n",
       "      <td>No</td>\n",
       "    </tr>\n",
       "    <tr>\n",
       "      <th>179970</th>\n",
       "      <td>659</td>\n",
       "      <td>2019-02-01 12:17:37.6750</td>\n",
       "      <td>2019-02-01 12:28:37.0140</td>\n",
       "      <td>NaN</td>\n",
       "      <td>NaN</td>\n",
       "      <td>37.41</td>\n",
       "      <td>-121.96</td>\n",
       "      <td>NaN</td>\n",
       "      <td>NaN</td>\n",
       "      <td>37.41</td>\n",
       "      <td>-121.94</td>\n",
       "      <td>4092</td>\n",
       "      <td>Subscriber</td>\n",
       "      <td>1999.0</td>\n",
       "      <td>Female</td>\n",
       "      <td>No</td>\n",
       "    </tr>\n",
       "    <tr>\n",
       "      <th>180106</th>\n",
       "      <td>2013</td>\n",
       "      <td>2019-02-01 11:33:55.1470</td>\n",
       "      <td>2019-02-01 12:07:28.9400</td>\n",
       "      <td>NaN</td>\n",
       "      <td>NaN</td>\n",
       "      <td>37.40</td>\n",
       "      <td>-121.94</td>\n",
       "      <td>NaN</td>\n",
       "      <td>NaN</td>\n",
       "      <td>37.40</td>\n",
       "      <td>-121.94</td>\n",
       "      <td>4251</td>\n",
       "      <td>Customer</td>\n",
       "      <td>1990.0</td>\n",
       "      <td>Female</td>\n",
       "      <td>No</td>\n",
       "    </tr>\n",
       "    <tr>\n",
       "      <th>181201</th>\n",
       "      <td>312</td>\n",
       "      <td>2019-02-01 09:26:34.8030</td>\n",
       "      <td>2019-02-01 09:31:46.9210</td>\n",
       "      <td>NaN</td>\n",
       "      <td>NaN</td>\n",
       "      <td>37.40</td>\n",
       "      <td>-121.93</td>\n",
       "      <td>NaN</td>\n",
       "      <td>NaN</td>\n",
       "      <td>37.40</td>\n",
       "      <td>-121.93</td>\n",
       "      <td>4208</td>\n",
       "      <td>Subscriber</td>\n",
       "      <td>1987.0</td>\n",
       "      <td>Male</td>\n",
       "      <td>No</td>\n",
       "    </tr>\n",
       "  </tbody>\n",
       "</table>\n",
       "<p>197 rows × 16 columns</p>\n",
       "</div>"
      ],
      "text/plain": [
       "        duration_sec                start_time                  end_time  \\\n",
       "475             1709  2019-02-28 20:55:53.9320  2019-02-28 21:24:23.7380   \n",
       "1733            1272  2019-02-28 18:32:34.2730  2019-02-28 18:53:46.7270   \n",
       "3625             142  2019-02-28 17:10:46.5290  2019-02-28 17:13:09.4310   \n",
       "4070             585  2019-02-28 16:28:45.9340  2019-02-28 16:38:31.3320   \n",
       "5654             509  2019-02-28 12:30:17.1310  2019-02-28 12:38:46.3290   \n",
       "...              ...                       ...                       ...   \n",
       "176154          1447  2019-02-02 12:03:04.5440  2019-02-02 12:27:12.2670   \n",
       "179730           309  2019-02-01 12:59:45.9690  2019-02-01 13:04:55.4260   \n",
       "179970           659  2019-02-01 12:17:37.6750  2019-02-01 12:28:37.0140   \n",
       "180106          2013  2019-02-01 11:33:55.1470  2019-02-01 12:07:28.9400   \n",
       "181201           312  2019-02-01 09:26:34.8030  2019-02-01 09:31:46.9210   \n",
       "\n",
       "        start_station_id start_station_name  start_station_latitude  \\\n",
       "475                  NaN                NaN                   37.40   \n",
       "1733                 NaN                NaN                   37.40   \n",
       "3625                 NaN                NaN                   37.41   \n",
       "4070                 NaN                NaN                   37.39   \n",
       "5654                 NaN                NaN                   37.40   \n",
       "...                  ...                ...                     ...   \n",
       "176154               NaN                NaN                   37.40   \n",
       "179730               NaN                NaN                   37.40   \n",
       "179970               NaN                NaN                   37.41   \n",
       "180106               NaN                NaN                   37.40   \n",
       "181201               NaN                NaN                   37.40   \n",
       "\n",
       "        start_station_longitude  end_station_id end_station_name  \\\n",
       "475                     -121.94             NaN              NaN   \n",
       "1733                    -121.94             NaN              NaN   \n",
       "3625                    -121.95             NaN              NaN   \n",
       "4070                    -121.93             NaN              NaN   \n",
       "5654                    -121.92             NaN              NaN   \n",
       "...                         ...             ...              ...   \n",
       "176154                  -121.93             NaN              NaN   \n",
       "179730                  -121.94             NaN              NaN   \n",
       "179970                  -121.96             NaN              NaN   \n",
       "180106                  -121.94             NaN              NaN   \n",
       "181201                  -121.93             NaN              NaN   \n",
       "\n",
       "        end_station_latitude  end_station_longitude  bike_id   user_type  \\\n",
       "475                    37.40                -121.93     4211    Customer   \n",
       "1733                   37.41                -121.96     4174  Subscriber   \n",
       "3625                   37.41                -121.96     4283  Subscriber   \n",
       "4070                   37.40                -121.92     4089  Subscriber   \n",
       "5654                   37.39                -121.93     4089  Subscriber   \n",
       "...                      ...                    ...      ...         ...   \n",
       "176154                 37.40                -121.93     4249    Customer   \n",
       "179730                 37.40                -121.93     4249    Customer   \n",
       "179970                 37.41                -121.94     4092  Subscriber   \n",
       "180106                 37.40                -121.94     4251    Customer   \n",
       "181201                 37.40                -121.93     4208  Subscriber   \n",
       "\n",
       "        member_birth_year member_gender bike_share_for_all_trip  \n",
       "475                1991.0        Female                      No  \n",
       "1733               1980.0          Male                      No  \n",
       "3625               1988.0          Male                      No  \n",
       "4070               1984.0          Male                     Yes  \n",
       "5654               1984.0          Male                     Yes  \n",
       "...                   ...           ...                     ...  \n",
       "176154             1984.0          Male                      No  \n",
       "179730             1987.0        Female                      No  \n",
       "179970             1999.0        Female                      No  \n",
       "180106             1990.0        Female                      No  \n",
       "181201             1987.0          Male                      No  \n",
       "\n",
       "[197 rows x 16 columns]"
      ]
     },
     "execution_count": 8,
     "metadata": {},
     "output_type": "execute_result"
    }
   ],
   "source": [
    "df[df['start_station_id'].isnull()] \n",
    "# i will keep it and won't drop it because the location of stations and all other data existed."
   ]
  },
  {
   "cell_type": "code",
   "execution_count": 9,
   "id": "dangerous-weekly",
   "metadata": {
    "slideshow": {
     "slide_type": "skip"
    }
   },
   "outputs": [
    {
     "data": {
      "text/html": [
       "<div>\n",
       "<style scoped>\n",
       "    .dataframe tbody tr th:only-of-type {\n",
       "        vertical-align: middle;\n",
       "    }\n",
       "\n",
       "    .dataframe tbody tr th {\n",
       "        vertical-align: top;\n",
       "    }\n",
       "\n",
       "    .dataframe thead th {\n",
       "        text-align: right;\n",
       "    }\n",
       "</style>\n",
       "<table border=\"1\" class=\"dataframe\">\n",
       "  <thead>\n",
       "    <tr style=\"text-align: right;\">\n",
       "      <th></th>\n",
       "      <th>duration_sec</th>\n",
       "      <th>start_time</th>\n",
       "      <th>end_time</th>\n",
       "      <th>start_station_id</th>\n",
       "      <th>start_station_name</th>\n",
       "      <th>start_station_latitude</th>\n",
       "      <th>start_station_longitude</th>\n",
       "      <th>end_station_id</th>\n",
       "      <th>end_station_name</th>\n",
       "      <th>end_station_latitude</th>\n",
       "      <th>end_station_longitude</th>\n",
       "      <th>bike_id</th>\n",
       "      <th>user_type</th>\n",
       "      <th>member_birth_year</th>\n",
       "      <th>member_gender</th>\n",
       "      <th>bike_share_for_all_trip</th>\n",
       "    </tr>\n",
       "  </thead>\n",
       "  <tbody>\n",
       "    <tr>\n",
       "      <th>1</th>\n",
       "      <td>42521</td>\n",
       "      <td>2019-02-28 18:53:21.7890</td>\n",
       "      <td>2019-03-01 06:42:03.0560</td>\n",
       "      <td>23.0</td>\n",
       "      <td>The Embarcadero at Steuart St</td>\n",
       "      <td>37.791464</td>\n",
       "      <td>-122.391034</td>\n",
       "      <td>81.0</td>\n",
       "      <td>Berry St at 4th St</td>\n",
       "      <td>37.775880</td>\n",
       "      <td>-122.393170</td>\n",
       "      <td>2535</td>\n",
       "      <td>Customer</td>\n",
       "      <td>NaN</td>\n",
       "      <td>NaN</td>\n",
       "      <td>No</td>\n",
       "    </tr>\n",
       "    <tr>\n",
       "      <th>13</th>\n",
       "      <td>915</td>\n",
       "      <td>2019-02-28 23:49:06.0620</td>\n",
       "      <td>2019-03-01 00:04:21.8670</td>\n",
       "      <td>252.0</td>\n",
       "      <td>Channing Way at Shattuck Ave</td>\n",
       "      <td>37.865847</td>\n",
       "      <td>-122.267443</td>\n",
       "      <td>244.0</td>\n",
       "      <td>Shattuck Ave at Hearst Ave</td>\n",
       "      <td>37.873676</td>\n",
       "      <td>-122.268487</td>\n",
       "      <td>5101</td>\n",
       "      <td>Subscriber</td>\n",
       "      <td>NaN</td>\n",
       "      <td>NaN</td>\n",
       "      <td>No</td>\n",
       "    </tr>\n",
       "    <tr>\n",
       "      <th>28</th>\n",
       "      <td>650</td>\n",
       "      <td>2019-02-28 23:43:27.5030</td>\n",
       "      <td>2019-02-28 23:54:18.4510</td>\n",
       "      <td>258.0</td>\n",
       "      <td>University Ave at Oxford St</td>\n",
       "      <td>37.872355</td>\n",
       "      <td>-122.266447</td>\n",
       "      <td>263.0</td>\n",
       "      <td>Channing Way at San Pablo Ave</td>\n",
       "      <td>37.862827</td>\n",
       "      <td>-122.290231</td>\n",
       "      <td>4784</td>\n",
       "      <td>Customer</td>\n",
       "      <td>NaN</td>\n",
       "      <td>NaN</td>\n",
       "      <td>No</td>\n",
       "    </tr>\n",
       "    <tr>\n",
       "      <th>53</th>\n",
       "      <td>3418</td>\n",
       "      <td>2019-02-28 22:41:16.3620</td>\n",
       "      <td>2019-02-28 23:38:14.3630</td>\n",
       "      <td>11.0</td>\n",
       "      <td>Davis St at Jackson St</td>\n",
       "      <td>37.797280</td>\n",
       "      <td>-122.398436</td>\n",
       "      <td>11.0</td>\n",
       "      <td>Davis St at Jackson St</td>\n",
       "      <td>37.797280</td>\n",
       "      <td>-122.398436</td>\n",
       "      <td>319</td>\n",
       "      <td>Customer</td>\n",
       "      <td>NaN</td>\n",
       "      <td>NaN</td>\n",
       "      <td>No</td>\n",
       "    </tr>\n",
       "    <tr>\n",
       "      <th>65</th>\n",
       "      <td>926</td>\n",
       "      <td>2019-02-28 23:17:05.8530</td>\n",
       "      <td>2019-02-28 23:32:32.6820</td>\n",
       "      <td>13.0</td>\n",
       "      <td>Commercial St at Montgomery St</td>\n",
       "      <td>37.794231</td>\n",
       "      <td>-122.402923</td>\n",
       "      <td>81.0</td>\n",
       "      <td>Berry St at 4th St</td>\n",
       "      <td>37.775880</td>\n",
       "      <td>-122.393170</td>\n",
       "      <td>2951</td>\n",
       "      <td>Subscriber</td>\n",
       "      <td>NaN</td>\n",
       "      <td>NaN</td>\n",
       "      <td>No</td>\n",
       "    </tr>\n",
       "    <tr>\n",
       "      <th>...</th>\n",
       "      <td>...</td>\n",
       "      <td>...</td>\n",
       "      <td>...</td>\n",
       "      <td>...</td>\n",
       "      <td>...</td>\n",
       "      <td>...</td>\n",
       "      <td>...</td>\n",
       "      <td>...</td>\n",
       "      <td>...</td>\n",
       "      <td>...</td>\n",
       "      <td>...</td>\n",
       "      <td>...</td>\n",
       "      <td>...</td>\n",
       "      <td>...</td>\n",
       "      <td>...</td>\n",
       "      <td>...</td>\n",
       "    </tr>\n",
       "    <tr>\n",
       "      <th>183354</th>\n",
       "      <td>449</td>\n",
       "      <td>2019-02-01 01:35:07.6630</td>\n",
       "      <td>2019-02-01 01:42:36.8780</td>\n",
       "      <td>244.0</td>\n",
       "      <td>Shattuck Ave at Hearst Ave</td>\n",
       "      <td>37.873676</td>\n",
       "      <td>-122.268487</td>\n",
       "      <td>253.0</td>\n",
       "      <td>Haste St at College Ave</td>\n",
       "      <td>37.866418</td>\n",
       "      <td>-122.253799</td>\n",
       "      <td>5430</td>\n",
       "      <td>Customer</td>\n",
       "      <td>NaN</td>\n",
       "      <td>NaN</td>\n",
       "      <td>No</td>\n",
       "    </tr>\n",
       "    <tr>\n",
       "      <th>183356</th>\n",
       "      <td>795</td>\n",
       "      <td>2019-02-01 01:25:50.3660</td>\n",
       "      <td>2019-02-01 01:39:05.9500</td>\n",
       "      <td>368.0</td>\n",
       "      <td>Myrtle St at Polk St</td>\n",
       "      <td>37.785434</td>\n",
       "      <td>-122.419622</td>\n",
       "      <td>125.0</td>\n",
       "      <td>20th St at Bryant St</td>\n",
       "      <td>37.759200</td>\n",
       "      <td>-122.409851</td>\n",
       "      <td>5400</td>\n",
       "      <td>Subscriber</td>\n",
       "      <td>NaN</td>\n",
       "      <td>NaN</td>\n",
       "      <td>No</td>\n",
       "    </tr>\n",
       "    <tr>\n",
       "      <th>183363</th>\n",
       "      <td>673</td>\n",
       "      <td>2019-02-01 01:12:24.4200</td>\n",
       "      <td>2019-02-01 01:23:37.6450</td>\n",
       "      <td>75.0</td>\n",
       "      <td>Market St at Franklin St</td>\n",
       "      <td>37.773793</td>\n",
       "      <td>-122.421239</td>\n",
       "      <td>133.0</td>\n",
       "      <td>Valencia St at 22nd St</td>\n",
       "      <td>37.755213</td>\n",
       "      <td>-122.420975</td>\n",
       "      <td>5166</td>\n",
       "      <td>Customer</td>\n",
       "      <td>NaN</td>\n",
       "      <td>NaN</td>\n",
       "      <td>No</td>\n",
       "    </tr>\n",
       "    <tr>\n",
       "      <th>183371</th>\n",
       "      <td>196</td>\n",
       "      <td>2019-02-01 01:08:38.6410</td>\n",
       "      <td>2019-02-01 01:11:54.9490</td>\n",
       "      <td>58.0</td>\n",
       "      <td>Market St at 10th St</td>\n",
       "      <td>37.776619</td>\n",
       "      <td>-122.417385</td>\n",
       "      <td>75.0</td>\n",
       "      <td>Market St at Franklin St</td>\n",
       "      <td>37.773793</td>\n",
       "      <td>-122.421239</td>\n",
       "      <td>2395</td>\n",
       "      <td>Customer</td>\n",
       "      <td>NaN</td>\n",
       "      <td>NaN</td>\n",
       "      <td>No</td>\n",
       "    </tr>\n",
       "    <tr>\n",
       "      <th>183402</th>\n",
       "      <td>122</td>\n",
       "      <td>2019-02-01 00:17:32.2580</td>\n",
       "      <td>2019-02-01 00:19:34.9380</td>\n",
       "      <td>119.0</td>\n",
       "      <td>18th St at Noe St</td>\n",
       "      <td>37.761047</td>\n",
       "      <td>-122.432642</td>\n",
       "      <td>120.0</td>\n",
       "      <td>Mission Dolores Park</td>\n",
       "      <td>37.761420</td>\n",
       "      <td>-122.426435</td>\n",
       "      <td>4326</td>\n",
       "      <td>Subscriber</td>\n",
       "      <td>NaN</td>\n",
       "      <td>NaN</td>\n",
       "      <td>No</td>\n",
       "    </tr>\n",
       "  </tbody>\n",
       "</table>\n",
       "<p>8265 rows × 16 columns</p>\n",
       "</div>"
      ],
      "text/plain": [
       "        duration_sec                start_time                  end_time  \\\n",
       "1              42521  2019-02-28 18:53:21.7890  2019-03-01 06:42:03.0560   \n",
       "13               915  2019-02-28 23:49:06.0620  2019-03-01 00:04:21.8670   \n",
       "28               650  2019-02-28 23:43:27.5030  2019-02-28 23:54:18.4510   \n",
       "53              3418  2019-02-28 22:41:16.3620  2019-02-28 23:38:14.3630   \n",
       "65               926  2019-02-28 23:17:05.8530  2019-02-28 23:32:32.6820   \n",
       "...              ...                       ...                       ...   \n",
       "183354           449  2019-02-01 01:35:07.6630  2019-02-01 01:42:36.8780   \n",
       "183356           795  2019-02-01 01:25:50.3660  2019-02-01 01:39:05.9500   \n",
       "183363           673  2019-02-01 01:12:24.4200  2019-02-01 01:23:37.6450   \n",
       "183371           196  2019-02-01 01:08:38.6410  2019-02-01 01:11:54.9490   \n",
       "183402           122  2019-02-01 00:17:32.2580  2019-02-01 00:19:34.9380   \n",
       "\n",
       "        start_station_id              start_station_name  \\\n",
       "1                   23.0   The Embarcadero at Steuart St   \n",
       "13                 252.0    Channing Way at Shattuck Ave   \n",
       "28                 258.0     University Ave at Oxford St   \n",
       "53                  11.0          Davis St at Jackson St   \n",
       "65                  13.0  Commercial St at Montgomery St   \n",
       "...                  ...                             ...   \n",
       "183354             244.0      Shattuck Ave at Hearst Ave   \n",
       "183356             368.0            Myrtle St at Polk St   \n",
       "183363              75.0        Market St at Franklin St   \n",
       "183371              58.0            Market St at 10th St   \n",
       "183402             119.0               18th St at Noe St   \n",
       "\n",
       "        start_station_latitude  start_station_longitude  end_station_id  \\\n",
       "1                    37.791464              -122.391034            81.0   \n",
       "13                   37.865847              -122.267443           244.0   \n",
       "28                   37.872355              -122.266447           263.0   \n",
       "53                   37.797280              -122.398436            11.0   \n",
       "65                   37.794231              -122.402923            81.0   \n",
       "...                        ...                      ...             ...   \n",
       "183354               37.873676              -122.268487           253.0   \n",
       "183356               37.785434              -122.419622           125.0   \n",
       "183363               37.773793              -122.421239           133.0   \n",
       "183371               37.776619              -122.417385            75.0   \n",
       "183402               37.761047              -122.432642           120.0   \n",
       "\n",
       "                     end_station_name  end_station_latitude  \\\n",
       "1                  Berry St at 4th St             37.775880   \n",
       "13         Shattuck Ave at Hearst Ave             37.873676   \n",
       "28      Channing Way at San Pablo Ave             37.862827   \n",
       "53             Davis St at Jackson St             37.797280   \n",
       "65                 Berry St at 4th St             37.775880   \n",
       "...                               ...                   ...   \n",
       "183354        Haste St at College Ave             37.866418   \n",
       "183356           20th St at Bryant St             37.759200   \n",
       "183363         Valencia St at 22nd St             37.755213   \n",
       "183371       Market St at Franklin St             37.773793   \n",
       "183402           Mission Dolores Park             37.761420   \n",
       "\n",
       "        end_station_longitude  bike_id   user_type  member_birth_year  \\\n",
       "1                 -122.393170     2535    Customer                NaN   \n",
       "13                -122.268487     5101  Subscriber                NaN   \n",
       "28                -122.290231     4784    Customer                NaN   \n",
       "53                -122.398436      319    Customer                NaN   \n",
       "65                -122.393170     2951  Subscriber                NaN   \n",
       "...                       ...      ...         ...                ...   \n",
       "183354            -122.253799     5430    Customer                NaN   \n",
       "183356            -122.409851     5400  Subscriber                NaN   \n",
       "183363            -122.420975     5166    Customer                NaN   \n",
       "183371            -122.421239     2395    Customer                NaN   \n",
       "183402            -122.426435     4326  Subscriber                NaN   \n",
       "\n",
       "       member_gender bike_share_for_all_trip  \n",
       "1                NaN                      No  \n",
       "13               NaN                      No  \n",
       "28               NaN                      No  \n",
       "53               NaN                      No  \n",
       "65               NaN                      No  \n",
       "...              ...                     ...  \n",
       "183354           NaN                      No  \n",
       "183356           NaN                      No  \n",
       "183363           NaN                      No  \n",
       "183371           NaN                      No  \n",
       "183402           NaN                      No  \n",
       "\n",
       "[8265 rows x 16 columns]"
      ]
     },
     "execution_count": 9,
     "metadata": {},
     "output_type": "execute_result"
    }
   ],
   "source": [
    "df[df['member_birth_year'].isnull()] \n",
    "# i will accept it , the data of gender and birth year for about 8265 rides are dropped \n",
    "# from csv file and other data are existed."
   ]
  },
  {
   "cell_type": "code",
   "execution_count": 10,
   "id": "brutal-elimination",
   "metadata": {
    "slideshow": {
     "slide_type": "skip"
    }
   },
   "outputs": [
    {
     "data": {
      "text/plain": [
       "8265"
      ]
     },
     "execution_count": 10,
     "metadata": {},
     "output_type": "execute_result"
    }
   ],
   "source": [
    "df.member_gender.isnull().sum()"
   ]
  },
  {
   "cell_type": "code",
   "execution_count": 11,
   "id": "informed-execution",
   "metadata": {
    "slideshow": {
     "slide_type": "skip"
    }
   },
   "outputs": [
    {
     "data": {
      "text/html": [
       "<div>\n",
       "<style scoped>\n",
       "    .dataframe tbody tr th:only-of-type {\n",
       "        vertical-align: middle;\n",
       "    }\n",
       "\n",
       "    .dataframe tbody tr th {\n",
       "        vertical-align: top;\n",
       "    }\n",
       "\n",
       "    .dataframe thead th {\n",
       "        text-align: right;\n",
       "    }\n",
       "</style>\n",
       "<table border=\"1\" class=\"dataframe\">\n",
       "  <thead>\n",
       "    <tr style=\"text-align: right;\">\n",
       "      <th></th>\n",
       "      <th>duration_sec</th>\n",
       "      <th>start_time</th>\n",
       "      <th>end_time</th>\n",
       "      <th>start_station_id</th>\n",
       "      <th>start_station_name</th>\n",
       "      <th>start_station_latitude</th>\n",
       "      <th>start_station_longitude</th>\n",
       "      <th>end_station_id</th>\n",
       "      <th>end_station_name</th>\n",
       "      <th>end_station_latitude</th>\n",
       "      <th>end_station_longitude</th>\n",
       "      <th>bike_id</th>\n",
       "      <th>user_type</th>\n",
       "      <th>member_birth_year</th>\n",
       "      <th>member_gender</th>\n",
       "      <th>bike_share_for_all_trip</th>\n",
       "    </tr>\n",
       "  </thead>\n",
       "  <tbody>\n",
       "    <tr>\n",
       "      <th>6504</th>\n",
       "      <td>654</td>\n",
       "      <td>2019-02-28 10:05:45.0950</td>\n",
       "      <td>2019-02-28 10:16:40.0750</td>\n",
       "      <td>92.0</td>\n",
       "      <td>Mission Bay Kids Park</td>\n",
       "      <td>37.772301</td>\n",
       "      <td>-122.393028</td>\n",
       "      <td>321.0</td>\n",
       "      <td>5th St at Folsom</td>\n",
       "      <td>37.780146</td>\n",
       "      <td>-122.403071</td>\n",
       "      <td>5967</td>\n",
       "      <td>Subscriber</td>\n",
       "      <td>1988.0</td>\n",
       "      <td>Male</td>\n",
       "      <td>No</td>\n",
       "    </tr>\n",
       "    <tr>\n",
       "      <th>114799</th>\n",
       "      <td>749</td>\n",
       "      <td>2019-02-12 09:07:37.8180</td>\n",
       "      <td>2019-02-12 09:20:07.0950</td>\n",
       "      <td>67.0</td>\n",
       "      <td>San Francisco Caltrain Station 2  (Townsend St...</td>\n",
       "      <td>37.776639</td>\n",
       "      <td>-122.395526</td>\n",
       "      <td>15.0</td>\n",
       "      <td>San Francisco Ferry Building (Harry Bridges Pl...</td>\n",
       "      <td>37.795392</td>\n",
       "      <td>-122.394203</td>\n",
       "      <td>176</td>\n",
       "      <td>Subscriber</td>\n",
       "      <td>1963.0</td>\n",
       "      <td>Male</td>\n",
       "      <td>No</td>\n",
       "    </tr>\n",
       "    <tr>\n",
       "      <th>84503</th>\n",
       "      <td>445</td>\n",
       "      <td>2019-02-17 17:28:11.9750</td>\n",
       "      <td>2019-02-17 17:35:37.4640</td>\n",
       "      <td>105.0</td>\n",
       "      <td>16th St at Prosper St</td>\n",
       "      <td>37.764285</td>\n",
       "      <td>-122.431804</td>\n",
       "      <td>88.0</td>\n",
       "      <td>11th St at Bryant St</td>\n",
       "      <td>37.770030</td>\n",
       "      <td>-122.411726</td>\n",
       "      <td>5325</td>\n",
       "      <td>Subscriber</td>\n",
       "      <td>1984.0</td>\n",
       "      <td>Male</td>\n",
       "      <td>No</td>\n",
       "    </tr>\n",
       "    <tr>\n",
       "      <th>117708</th>\n",
       "      <td>925</td>\n",
       "      <td>2019-02-11 20:26:17.8960</td>\n",
       "      <td>2019-02-11 20:41:43.6720</td>\n",
       "      <td>27.0</td>\n",
       "      <td>Beale St at Harrison St</td>\n",
       "      <td>37.788059</td>\n",
       "      <td>-122.391865</td>\n",
       "      <td>365.0</td>\n",
       "      <td>Turk St at Fillmore St</td>\n",
       "      <td>37.780450</td>\n",
       "      <td>-122.431946</td>\n",
       "      <td>4911</td>\n",
       "      <td>Subscriber</td>\n",
       "      <td>1983.0</td>\n",
       "      <td>Male</td>\n",
       "      <td>No</td>\n",
       "    </tr>\n",
       "    <tr>\n",
       "      <th>48031</th>\n",
       "      <td>729</td>\n",
       "      <td>2019-02-22 08:13:09.3700</td>\n",
       "      <td>2019-02-22 08:25:19.3240</td>\n",
       "      <td>118.0</td>\n",
       "      <td>Eureka Valley Recreation Center</td>\n",
       "      <td>37.759177</td>\n",
       "      <td>-122.436943</td>\n",
       "      <td>114.0</td>\n",
       "      <td>Rhode Island St at 17th St</td>\n",
       "      <td>37.764478</td>\n",
       "      <td>-122.402570</td>\n",
       "      <td>5911</td>\n",
       "      <td>Subscriber</td>\n",
       "      <td>1974.0</td>\n",
       "      <td>Male</td>\n",
       "      <td>No</td>\n",
       "    </tr>\n",
       "    <tr>\n",
       "      <th>137018</th>\n",
       "      <td>551</td>\n",
       "      <td>2019-02-08 09:02:38.7060</td>\n",
       "      <td>2019-02-08 09:11:50.1740</td>\n",
       "      <td>73.0</td>\n",
       "      <td>Pierce St at Haight St</td>\n",
       "      <td>37.771793</td>\n",
       "      <td>-122.433708</td>\n",
       "      <td>58.0</td>\n",
       "      <td>Market St at 10th St</td>\n",
       "      <td>37.776619</td>\n",
       "      <td>-122.417385</td>\n",
       "      <td>1758</td>\n",
       "      <td>Customer</td>\n",
       "      <td>1981.0</td>\n",
       "      <td>Female</td>\n",
       "      <td>No</td>\n",
       "    </tr>\n",
       "    <tr>\n",
       "      <th>48297</th>\n",
       "      <td>563</td>\n",
       "      <td>2019-02-22 07:56:24.2260</td>\n",
       "      <td>2019-02-22 08:05:48.0070</td>\n",
       "      <td>241.0</td>\n",
       "      <td>Ashby BART Station</td>\n",
       "      <td>37.852477</td>\n",
       "      <td>-122.270213</td>\n",
       "      <td>238.0</td>\n",
       "      <td>MLK Jr Way at University Ave</td>\n",
       "      <td>37.871719</td>\n",
       "      <td>-122.273068</td>\n",
       "      <td>6411</td>\n",
       "      <td>Subscriber</td>\n",
       "      <td>1997.0</td>\n",
       "      <td>Male</td>\n",
       "      <td>No</td>\n",
       "    </tr>\n",
       "    <tr>\n",
       "      <th>140553</th>\n",
       "      <td>1219</td>\n",
       "      <td>2019-02-07 18:42:07.0520</td>\n",
       "      <td>2019-02-07 19:02:26.7970</td>\n",
       "      <td>59.0</td>\n",
       "      <td>S Van Ness Ave at Market St</td>\n",
       "      <td>37.774814</td>\n",
       "      <td>-122.418954</td>\n",
       "      <td>70.0</td>\n",
       "      <td>Central Ave at Fell St</td>\n",
       "      <td>37.773311</td>\n",
       "      <td>-122.444293</td>\n",
       "      <td>4626</td>\n",
       "      <td>Subscriber</td>\n",
       "      <td>1994.0</td>\n",
       "      <td>Female</td>\n",
       "      <td>No</td>\n",
       "    </tr>\n",
       "    <tr>\n",
       "      <th>16466</th>\n",
       "      <td>244</td>\n",
       "      <td>2019-02-27 08:33:18.7570</td>\n",
       "      <td>2019-02-27 08:37:22.7800</td>\n",
       "      <td>90.0</td>\n",
       "      <td>Townsend St at 7th St</td>\n",
       "      <td>37.771058</td>\n",
       "      <td>-122.402717</td>\n",
       "      <td>67.0</td>\n",
       "      <td>San Francisco Caltrain Station 2  (Townsend St...</td>\n",
       "      <td>37.776639</td>\n",
       "      <td>-122.395526</td>\n",
       "      <td>4988</td>\n",
       "      <td>Subscriber</td>\n",
       "      <td>1993.0</td>\n",
       "      <td>Female</td>\n",
       "      <td>No</td>\n",
       "    </tr>\n",
       "    <tr>\n",
       "      <th>69004</th>\n",
       "      <td>1793</td>\n",
       "      <td>2019-02-19 20:08:06.8410</td>\n",
       "      <td>2019-02-19 20:38:00.7220</td>\n",
       "      <td>78.0</td>\n",
       "      <td>Folsom St at 9th St</td>\n",
       "      <td>37.773717</td>\n",
       "      <td>-122.411647</td>\n",
       "      <td>284.0</td>\n",
       "      <td>Yerba Buena Center for the Arts (Howard St at ...</td>\n",
       "      <td>37.784872</td>\n",
       "      <td>-122.400876</td>\n",
       "      <td>4767</td>\n",
       "      <td>Subscriber</td>\n",
       "      <td>1991.0</td>\n",
       "      <td>Female</td>\n",
       "      <td>No</td>\n",
       "    </tr>\n",
       "    <tr>\n",
       "      <th>84977</th>\n",
       "      <td>434</td>\n",
       "      <td>2019-02-17 16:19:24.8880</td>\n",
       "      <td>2019-02-17 16:26:39.4190</td>\n",
       "      <td>343.0</td>\n",
       "      <td>Bryant St at 2nd St</td>\n",
       "      <td>37.783172</td>\n",
       "      <td>-122.393572</td>\n",
       "      <td>5.0</td>\n",
       "      <td>Powell St BART Station (Market St at 5th St)</td>\n",
       "      <td>37.783899</td>\n",
       "      <td>-122.408445</td>\n",
       "      <td>6321</td>\n",
       "      <td>Subscriber</td>\n",
       "      <td>1995.0</td>\n",
       "      <td>Male</td>\n",
       "      <td>No</td>\n",
       "    </tr>\n",
       "    <tr>\n",
       "      <th>59507</th>\n",
       "      <td>708</td>\n",
       "      <td>2019-02-20 20:02:25.3410</td>\n",
       "      <td>2019-02-20 20:14:13.6190</td>\n",
       "      <td>178.0</td>\n",
       "      <td>Broadway at 30th St</td>\n",
       "      <td>37.819381</td>\n",
       "      <td>-122.261928</td>\n",
       "      <td>150.0</td>\n",
       "      <td>Adeline St at 40th St</td>\n",
       "      <td>37.831277</td>\n",
       "      <td>-122.278267</td>\n",
       "      <td>5689</td>\n",
       "      <td>Subscriber</td>\n",
       "      <td>1981.0</td>\n",
       "      <td>Male</td>\n",
       "      <td>No</td>\n",
       "    </tr>\n",
       "    <tr>\n",
       "      <th>42736</th>\n",
       "      <td>695</td>\n",
       "      <td>2019-02-22 17:14:15.4670</td>\n",
       "      <td>2019-02-22 17:25:50.7770</td>\n",
       "      <td>19.0</td>\n",
       "      <td>Post St at Kearny St</td>\n",
       "      <td>37.788975</td>\n",
       "      <td>-122.403452</td>\n",
       "      <td>74.0</td>\n",
       "      <td>Laguna St at Hayes St</td>\n",
       "      <td>37.776435</td>\n",
       "      <td>-122.426244</td>\n",
       "      <td>5246</td>\n",
       "      <td>Subscriber</td>\n",
       "      <td>1994.0</td>\n",
       "      <td>Female</td>\n",
       "      <td>No</td>\n",
       "    </tr>\n",
       "    <tr>\n",
       "      <th>19193</th>\n",
       "      <td>881</td>\n",
       "      <td>2019-02-26 17:15:18.8900</td>\n",
       "      <td>2019-02-26 17:30:00.2660</td>\n",
       "      <td>23.0</td>\n",
       "      <td>The Embarcadero at Steuart St</td>\n",
       "      <td>37.791464</td>\n",
       "      <td>-122.391034</td>\n",
       "      <td>323.0</td>\n",
       "      <td>Broadway at Kearny</td>\n",
       "      <td>37.798014</td>\n",
       "      <td>-122.405950</td>\n",
       "      <td>4389</td>\n",
       "      <td>Subscriber</td>\n",
       "      <td>1985.0</td>\n",
       "      <td>Male</td>\n",
       "      <td>No</td>\n",
       "    </tr>\n",
       "    <tr>\n",
       "      <th>86734</th>\n",
       "      <td>695</td>\n",
       "      <td>2019-02-17 11:58:44.1970</td>\n",
       "      <td>2019-02-17 12:10:20.1170</td>\n",
       "      <td>139.0</td>\n",
       "      <td>Garfield Square (25th St at Harrison St)</td>\n",
       "      <td>37.751017</td>\n",
       "      <td>-122.411901</td>\n",
       "      <td>95.0</td>\n",
       "      <td>Sanchez St at 15th St</td>\n",
       "      <td>37.766219</td>\n",
       "      <td>-122.431060</td>\n",
       "      <td>5038</td>\n",
       "      <td>Subscriber</td>\n",
       "      <td>1984.0</td>\n",
       "      <td>Female</td>\n",
       "      <td>No</td>\n",
       "    </tr>\n",
       "    <tr>\n",
       "      <th>118877</th>\n",
       "      <td>545</td>\n",
       "      <td>2019-02-11 18:23:36.0840</td>\n",
       "      <td>2019-02-11 18:32:41.6990</td>\n",
       "      <td>6.0</td>\n",
       "      <td>The Embarcadero at Sansome St</td>\n",
       "      <td>37.804770</td>\n",
       "      <td>-122.403234</td>\n",
       "      <td>28.0</td>\n",
       "      <td>The Embarcadero at Bryant St</td>\n",
       "      <td>37.787168</td>\n",
       "      <td>-122.388098</td>\n",
       "      <td>579</td>\n",
       "      <td>Subscriber</td>\n",
       "      <td>1975.0</td>\n",
       "      <td>Male</td>\n",
       "      <td>No</td>\n",
       "    </tr>\n",
       "    <tr>\n",
       "      <th>10049</th>\n",
       "      <td>129</td>\n",
       "      <td>2019-02-27 22:08:06.2350</td>\n",
       "      <td>2019-02-27 22:10:15.4600</td>\n",
       "      <td>183.0</td>\n",
       "      <td>Telegraph Ave at 19th St</td>\n",
       "      <td>37.808702</td>\n",
       "      <td>-122.269927</td>\n",
       "      <td>181.0</td>\n",
       "      <td>Grand Ave at Webster St</td>\n",
       "      <td>37.811377</td>\n",
       "      <td>-122.265192</td>\n",
       "      <td>4866</td>\n",
       "      <td>Subscriber</td>\n",
       "      <td>1984.0</td>\n",
       "      <td>Male</td>\n",
       "      <td>No</td>\n",
       "    </tr>\n",
       "    <tr>\n",
       "      <th>123393</th>\n",
       "      <td>544</td>\n",
       "      <td>2019-02-11 09:26:03.5680</td>\n",
       "      <td>2019-02-11 09:35:07.5850</td>\n",
       "      <td>95.0</td>\n",
       "      <td>Sanchez St at 15th St</td>\n",
       "      <td>37.766219</td>\n",
       "      <td>-122.431060</td>\n",
       "      <td>44.0</td>\n",
       "      <td>Civic Center/UN Plaza BART Station (Market St ...</td>\n",
       "      <td>37.781074</td>\n",
       "      <td>-122.411738</td>\n",
       "      <td>5200</td>\n",
       "      <td>Subscriber</td>\n",
       "      <td>1992.0</td>\n",
       "      <td>Male</td>\n",
       "      <td>No</td>\n",
       "    </tr>\n",
       "    <tr>\n",
       "      <th>55434</th>\n",
       "      <td>360</td>\n",
       "      <td>2019-02-21 10:12:01.1810</td>\n",
       "      <td>2019-02-21 10:18:02.0780</td>\n",
       "      <td>36.0</td>\n",
       "      <td>Folsom St at 3rd St</td>\n",
       "      <td>37.783830</td>\n",
       "      <td>-122.398870</td>\n",
       "      <td>10.0</td>\n",
       "      <td>Washington St at Kearny St</td>\n",
       "      <td>37.795393</td>\n",
       "      <td>-122.404770</td>\n",
       "      <td>6560</td>\n",
       "      <td>Subscriber</td>\n",
       "      <td>1987.0</td>\n",
       "      <td>Male</td>\n",
       "      <td>No</td>\n",
       "    </tr>\n",
       "    <tr>\n",
       "      <th>138719</th>\n",
       "      <td>666</td>\n",
       "      <td>2019-02-08 06:36:38.5210</td>\n",
       "      <td>2019-02-08 06:47:45.2980</td>\n",
       "      <td>91.0</td>\n",
       "      <td>Berry St at King St</td>\n",
       "      <td>37.771762</td>\n",
       "      <td>-122.398438</td>\n",
       "      <td>102.0</td>\n",
       "      <td>Irwin St at 8th St</td>\n",
       "      <td>37.766883</td>\n",
       "      <td>-122.399579</td>\n",
       "      <td>4795</td>\n",
       "      <td>Subscriber</td>\n",
       "      <td>1978.0</td>\n",
       "      <td>Male</td>\n",
       "      <td>Yes</td>\n",
       "    </tr>\n",
       "    <tr>\n",
       "      <th>38373</th>\n",
       "      <td>456</td>\n",
       "      <td>2019-02-23 12:07:06.9050</td>\n",
       "      <td>2019-02-23 12:14:43.6680</td>\n",
       "      <td>89.0</td>\n",
       "      <td>Division St at Potrero Ave</td>\n",
       "      <td>37.769218</td>\n",
       "      <td>-122.407646</td>\n",
       "      <td>129.0</td>\n",
       "      <td>Harrison St at 20th St</td>\n",
       "      <td>37.758862</td>\n",
       "      <td>-122.412544</td>\n",
       "      <td>4358</td>\n",
       "      <td>Customer</td>\n",
       "      <td>1995.0</td>\n",
       "      <td>Female</td>\n",
       "      <td>No</td>\n",
       "    </tr>\n",
       "    <tr>\n",
       "      <th>8551</th>\n",
       "      <td>132</td>\n",
       "      <td>2019-02-28 08:22:45.9760</td>\n",
       "      <td>2019-02-28 08:24:58.7640</td>\n",
       "      <td>64.0</td>\n",
       "      <td>5th St at Brannan St</td>\n",
       "      <td>37.776754</td>\n",
       "      <td>-122.399018</td>\n",
       "      <td>67.0</td>\n",
       "      <td>San Francisco Caltrain Station 2  (Townsend St...</td>\n",
       "      <td>37.776639</td>\n",
       "      <td>-122.395526</td>\n",
       "      <td>4351</td>\n",
       "      <td>Subscriber</td>\n",
       "      <td>1990.0</td>\n",
       "      <td>Male</td>\n",
       "      <td>No</td>\n",
       "    </tr>\n",
       "    <tr>\n",
       "      <th>95607</th>\n",
       "      <td>686</td>\n",
       "      <td>2019-02-15 13:11:29.5250</td>\n",
       "      <td>2019-02-15 13:22:56.1750</td>\n",
       "      <td>58.0</td>\n",
       "      <td>Market St at 10th St</td>\n",
       "      <td>37.776619</td>\n",
       "      <td>-122.417385</td>\n",
       "      <td>36.0</td>\n",
       "      <td>Folsom St at 3rd St</td>\n",
       "      <td>37.783830</td>\n",
       "      <td>-122.398870</td>\n",
       "      <td>2887</td>\n",
       "      <td>Subscriber</td>\n",
       "      <td>1998.0</td>\n",
       "      <td>Male</td>\n",
       "      <td>No</td>\n",
       "    </tr>\n",
       "    <tr>\n",
       "      <th>118210</th>\n",
       "      <td>427</td>\n",
       "      <td>2019-02-11 19:15:52.7740</td>\n",
       "      <td>2019-02-11 19:23:00.2680</td>\n",
       "      <td>5.0</td>\n",
       "      <td>Powell St BART Station (Market St at 5th St)</td>\n",
       "      <td>37.783899</td>\n",
       "      <td>-122.408445</td>\n",
       "      <td>13.0</td>\n",
       "      <td>Commercial St at Montgomery St</td>\n",
       "      <td>37.794231</td>\n",
       "      <td>-122.402923</td>\n",
       "      <td>3616</td>\n",
       "      <td>Subscriber</td>\n",
       "      <td>1983.0</td>\n",
       "      <td>Male</td>\n",
       "      <td>No</td>\n",
       "    </tr>\n",
       "    <tr>\n",
       "      <th>94093</th>\n",
       "      <td>668</td>\n",
       "      <td>2019-02-15 16:53:54.3400</td>\n",
       "      <td>2019-02-15 17:05:03.0590</td>\n",
       "      <td>172.0</td>\n",
       "      <td>College Ave at Taft Ave</td>\n",
       "      <td>37.841800</td>\n",
       "      <td>-122.251535</td>\n",
       "      <td>150.0</td>\n",
       "      <td>Adeline St at 40th St</td>\n",
       "      <td>37.831277</td>\n",
       "      <td>-122.278267</td>\n",
       "      <td>5512</td>\n",
       "      <td>Subscriber</td>\n",
       "      <td>1980.0</td>\n",
       "      <td>Female</td>\n",
       "      <td>No</td>\n",
       "    </tr>\n",
       "    <tr>\n",
       "      <th>140337</th>\n",
       "      <td>140</td>\n",
       "      <td>2019-02-07 19:17:56.9430</td>\n",
       "      <td>2019-02-07 19:20:17.4650</td>\n",
       "      <td>89.0</td>\n",
       "      <td>Division St at Potrero Ave</td>\n",
       "      <td>37.769218</td>\n",
       "      <td>-122.407646</td>\n",
       "      <td>101.0</td>\n",
       "      <td>15th St at Potrero Ave</td>\n",
       "      <td>37.767079</td>\n",
       "      <td>-122.407359</td>\n",
       "      <td>5025</td>\n",
       "      <td>Subscriber</td>\n",
       "      <td>1975.0</td>\n",
       "      <td>Male</td>\n",
       "      <td>No</td>\n",
       "    </tr>\n",
       "    <tr>\n",
       "      <th>70750</th>\n",
       "      <td>944</td>\n",
       "      <td>2019-02-19 17:53:19.3240</td>\n",
       "      <td>2019-02-19 18:09:04.0170</td>\n",
       "      <td>21.0</td>\n",
       "      <td>Montgomery St BART Station (Market St at 2nd St)</td>\n",
       "      <td>37.789625</td>\n",
       "      <td>-122.400811</td>\n",
       "      <td>285.0</td>\n",
       "      <td>Webster St at O'Farrell St</td>\n",
       "      <td>37.783521</td>\n",
       "      <td>-122.431158</td>\n",
       "      <td>5915</td>\n",
       "      <td>Subscriber</td>\n",
       "      <td>1990.0</td>\n",
       "      <td>Male</td>\n",
       "      <td>No</td>\n",
       "    </tr>\n",
       "    <tr>\n",
       "      <th>112214</th>\n",
       "      <td>415</td>\n",
       "      <td>2019-02-12 15:58:24.9060</td>\n",
       "      <td>2019-02-12 16:05:20.0900</td>\n",
       "      <td>17.0</td>\n",
       "      <td>Embarcadero BART Station (Beale St at Market St)</td>\n",
       "      <td>37.792251</td>\n",
       "      <td>-122.397086</td>\n",
       "      <td>23.0</td>\n",
       "      <td>The Embarcadero at Steuart St</td>\n",
       "      <td>37.791464</td>\n",
       "      <td>-122.391034</td>\n",
       "      <td>1087</td>\n",
       "      <td>Customer</td>\n",
       "      <td>1980.0</td>\n",
       "      <td>Male</td>\n",
       "      <td>No</td>\n",
       "    </tr>\n",
       "    <tr>\n",
       "      <th>151117</th>\n",
       "      <td>254</td>\n",
       "      <td>2019-02-06 17:36:39.3700</td>\n",
       "      <td>2019-02-06 17:40:53.9150</td>\n",
       "      <td>349.0</td>\n",
       "      <td>Howard St at Mary St</td>\n",
       "      <td>37.781010</td>\n",
       "      <td>-122.405666</td>\n",
       "      <td>61.0</td>\n",
       "      <td>Howard St at 8th St</td>\n",
       "      <td>37.776513</td>\n",
       "      <td>-122.411306</td>\n",
       "      <td>4770</td>\n",
       "      <td>Subscriber</td>\n",
       "      <td>1992.0</td>\n",
       "      <td>Female</td>\n",
       "      <td>No</td>\n",
       "    </tr>\n",
       "    <tr>\n",
       "      <th>97991</th>\n",
       "      <td>1223</td>\n",
       "      <td>2019-02-15 08:10:29.1390</td>\n",
       "      <td>2019-02-15 08:30:52.9840</td>\n",
       "      <td>141.0</td>\n",
       "      <td>Valencia St at Cesar Chavez St</td>\n",
       "      <td>37.747998</td>\n",
       "      <td>-122.420219</td>\n",
       "      <td>349.0</td>\n",
       "      <td>Howard St at Mary St</td>\n",
       "      <td>37.781010</td>\n",
       "      <td>-122.405666</td>\n",
       "      <td>1299</td>\n",
       "      <td>Subscriber</td>\n",
       "      <td>1988.0</td>\n",
       "      <td>Male</td>\n",
       "      <td>No</td>\n",
       "    </tr>\n",
       "  </tbody>\n",
       "</table>\n",
       "</div>"
      ],
      "text/plain": [
       "        duration_sec                start_time                  end_time  \\\n",
       "6504             654  2019-02-28 10:05:45.0950  2019-02-28 10:16:40.0750   \n",
       "114799           749  2019-02-12 09:07:37.8180  2019-02-12 09:20:07.0950   \n",
       "84503            445  2019-02-17 17:28:11.9750  2019-02-17 17:35:37.4640   \n",
       "117708           925  2019-02-11 20:26:17.8960  2019-02-11 20:41:43.6720   \n",
       "48031            729  2019-02-22 08:13:09.3700  2019-02-22 08:25:19.3240   \n",
       "137018           551  2019-02-08 09:02:38.7060  2019-02-08 09:11:50.1740   \n",
       "48297            563  2019-02-22 07:56:24.2260  2019-02-22 08:05:48.0070   \n",
       "140553          1219  2019-02-07 18:42:07.0520  2019-02-07 19:02:26.7970   \n",
       "16466            244  2019-02-27 08:33:18.7570  2019-02-27 08:37:22.7800   \n",
       "69004           1793  2019-02-19 20:08:06.8410  2019-02-19 20:38:00.7220   \n",
       "84977            434  2019-02-17 16:19:24.8880  2019-02-17 16:26:39.4190   \n",
       "59507            708  2019-02-20 20:02:25.3410  2019-02-20 20:14:13.6190   \n",
       "42736            695  2019-02-22 17:14:15.4670  2019-02-22 17:25:50.7770   \n",
       "19193            881  2019-02-26 17:15:18.8900  2019-02-26 17:30:00.2660   \n",
       "86734            695  2019-02-17 11:58:44.1970  2019-02-17 12:10:20.1170   \n",
       "118877           545  2019-02-11 18:23:36.0840  2019-02-11 18:32:41.6990   \n",
       "10049            129  2019-02-27 22:08:06.2350  2019-02-27 22:10:15.4600   \n",
       "123393           544  2019-02-11 09:26:03.5680  2019-02-11 09:35:07.5850   \n",
       "55434            360  2019-02-21 10:12:01.1810  2019-02-21 10:18:02.0780   \n",
       "138719           666  2019-02-08 06:36:38.5210  2019-02-08 06:47:45.2980   \n",
       "38373            456  2019-02-23 12:07:06.9050  2019-02-23 12:14:43.6680   \n",
       "8551             132  2019-02-28 08:22:45.9760  2019-02-28 08:24:58.7640   \n",
       "95607            686  2019-02-15 13:11:29.5250  2019-02-15 13:22:56.1750   \n",
       "118210           427  2019-02-11 19:15:52.7740  2019-02-11 19:23:00.2680   \n",
       "94093            668  2019-02-15 16:53:54.3400  2019-02-15 17:05:03.0590   \n",
       "140337           140  2019-02-07 19:17:56.9430  2019-02-07 19:20:17.4650   \n",
       "70750            944  2019-02-19 17:53:19.3240  2019-02-19 18:09:04.0170   \n",
       "112214           415  2019-02-12 15:58:24.9060  2019-02-12 16:05:20.0900   \n",
       "151117           254  2019-02-06 17:36:39.3700  2019-02-06 17:40:53.9150   \n",
       "97991           1223  2019-02-15 08:10:29.1390  2019-02-15 08:30:52.9840   \n",
       "\n",
       "        start_station_id                                 start_station_name  \\\n",
       "6504                92.0                              Mission Bay Kids Park   \n",
       "114799              67.0  San Francisco Caltrain Station 2  (Townsend St...   \n",
       "84503              105.0                              16th St at Prosper St   \n",
       "117708              27.0                            Beale St at Harrison St   \n",
       "48031              118.0                    Eureka Valley Recreation Center   \n",
       "137018              73.0                             Pierce St at Haight St   \n",
       "48297              241.0                                 Ashby BART Station   \n",
       "140553              59.0                        S Van Ness Ave at Market St   \n",
       "16466               90.0                              Townsend St at 7th St   \n",
       "69004               78.0                                Folsom St at 9th St   \n",
       "84977              343.0                                Bryant St at 2nd St   \n",
       "59507              178.0                                Broadway at 30th St   \n",
       "42736               19.0                               Post St at Kearny St   \n",
       "19193               23.0                      The Embarcadero at Steuart St   \n",
       "86734              139.0           Garfield Square (25th St at Harrison St)   \n",
       "118877               6.0                      The Embarcadero at Sansome St   \n",
       "10049              183.0                           Telegraph Ave at 19th St   \n",
       "123393              95.0                              Sanchez St at 15th St   \n",
       "55434               36.0                                Folsom St at 3rd St   \n",
       "138719              91.0                                Berry St at King St   \n",
       "38373               89.0                         Division St at Potrero Ave   \n",
       "8551                64.0                               5th St at Brannan St   \n",
       "95607               58.0                               Market St at 10th St   \n",
       "118210               5.0       Powell St BART Station (Market St at 5th St)   \n",
       "94093              172.0                            College Ave at Taft Ave   \n",
       "140337              89.0                         Division St at Potrero Ave   \n",
       "70750               21.0   Montgomery St BART Station (Market St at 2nd St)   \n",
       "112214              17.0   Embarcadero BART Station (Beale St at Market St)   \n",
       "151117             349.0                               Howard St at Mary St   \n",
       "97991              141.0                     Valencia St at Cesar Chavez St   \n",
       "\n",
       "        start_station_latitude  start_station_longitude  end_station_id  \\\n",
       "6504                 37.772301              -122.393028           321.0   \n",
       "114799               37.776639              -122.395526            15.0   \n",
       "84503                37.764285              -122.431804            88.0   \n",
       "117708               37.788059              -122.391865           365.0   \n",
       "48031                37.759177              -122.436943           114.0   \n",
       "137018               37.771793              -122.433708            58.0   \n",
       "48297                37.852477              -122.270213           238.0   \n",
       "140553               37.774814              -122.418954            70.0   \n",
       "16466                37.771058              -122.402717            67.0   \n",
       "69004                37.773717              -122.411647           284.0   \n",
       "84977                37.783172              -122.393572             5.0   \n",
       "59507                37.819381              -122.261928           150.0   \n",
       "42736                37.788975              -122.403452            74.0   \n",
       "19193                37.791464              -122.391034           323.0   \n",
       "86734                37.751017              -122.411901            95.0   \n",
       "118877               37.804770              -122.403234            28.0   \n",
       "10049                37.808702              -122.269927           181.0   \n",
       "123393               37.766219              -122.431060            44.0   \n",
       "55434                37.783830              -122.398870            10.0   \n",
       "138719               37.771762              -122.398438           102.0   \n",
       "38373                37.769218              -122.407646           129.0   \n",
       "8551                 37.776754              -122.399018            67.0   \n",
       "95607                37.776619              -122.417385            36.0   \n",
       "118210               37.783899              -122.408445            13.0   \n",
       "94093                37.841800              -122.251535           150.0   \n",
       "140337               37.769218              -122.407646           101.0   \n",
       "70750                37.789625              -122.400811           285.0   \n",
       "112214               37.792251              -122.397086            23.0   \n",
       "151117               37.781010              -122.405666            61.0   \n",
       "97991                37.747998              -122.420219           349.0   \n",
       "\n",
       "                                         end_station_name  \\\n",
       "6504                                     5th St at Folsom   \n",
       "114799  San Francisco Ferry Building (Harry Bridges Pl...   \n",
       "84503                                11th St at Bryant St   \n",
       "117708                             Turk St at Fillmore St   \n",
       "48031                          Rhode Island St at 17th St   \n",
       "137018                               Market St at 10th St   \n",
       "48297                        MLK Jr Way at University Ave   \n",
       "140553                             Central Ave at Fell St   \n",
       "16466   San Francisco Caltrain Station 2  (Townsend St...   \n",
       "69004   Yerba Buena Center for the Arts (Howard St at ...   \n",
       "84977        Powell St BART Station (Market St at 5th St)   \n",
       "59507                               Adeline St at 40th St   \n",
       "42736                               Laguna St at Hayes St   \n",
       "19193                                  Broadway at Kearny   \n",
       "86734                               Sanchez St at 15th St   \n",
       "118877                       The Embarcadero at Bryant St   \n",
       "10049                             Grand Ave at Webster St   \n",
       "123393  Civic Center/UN Plaza BART Station (Market St ...   \n",
       "55434                          Washington St at Kearny St   \n",
       "138719                                 Irwin St at 8th St   \n",
       "38373                              Harrison St at 20th St   \n",
       "8551    San Francisco Caltrain Station 2  (Townsend St...   \n",
       "95607                                 Folsom St at 3rd St   \n",
       "118210                     Commercial St at Montgomery St   \n",
       "94093                               Adeline St at 40th St   \n",
       "140337                             15th St at Potrero Ave   \n",
       "70750                          Webster St at O'Farrell St   \n",
       "112214                      The Embarcadero at Steuart St   \n",
       "151117                                Howard St at 8th St   \n",
       "97991                                Howard St at Mary St   \n",
       "\n",
       "        end_station_latitude  end_station_longitude  bike_id   user_type  \\\n",
       "6504               37.780146            -122.403071     5967  Subscriber   \n",
       "114799             37.795392            -122.394203      176  Subscriber   \n",
       "84503              37.770030            -122.411726     5325  Subscriber   \n",
       "117708             37.780450            -122.431946     4911  Subscriber   \n",
       "48031              37.764478            -122.402570     5911  Subscriber   \n",
       "137018             37.776619            -122.417385     1758    Customer   \n",
       "48297              37.871719            -122.273068     6411  Subscriber   \n",
       "140553             37.773311            -122.444293     4626  Subscriber   \n",
       "16466              37.776639            -122.395526     4988  Subscriber   \n",
       "69004              37.784872            -122.400876     4767  Subscriber   \n",
       "84977              37.783899            -122.408445     6321  Subscriber   \n",
       "59507              37.831277            -122.278267     5689  Subscriber   \n",
       "42736              37.776435            -122.426244     5246  Subscriber   \n",
       "19193              37.798014            -122.405950     4389  Subscriber   \n",
       "86734              37.766219            -122.431060     5038  Subscriber   \n",
       "118877             37.787168            -122.388098      579  Subscriber   \n",
       "10049              37.811377            -122.265192     4866  Subscriber   \n",
       "123393             37.781074            -122.411738     5200  Subscriber   \n",
       "55434              37.795393            -122.404770     6560  Subscriber   \n",
       "138719             37.766883            -122.399579     4795  Subscriber   \n",
       "38373              37.758862            -122.412544     4358    Customer   \n",
       "8551               37.776639            -122.395526     4351  Subscriber   \n",
       "95607              37.783830            -122.398870     2887  Subscriber   \n",
       "118210             37.794231            -122.402923     3616  Subscriber   \n",
       "94093              37.831277            -122.278267     5512  Subscriber   \n",
       "140337             37.767079            -122.407359     5025  Subscriber   \n",
       "70750              37.783521            -122.431158     5915  Subscriber   \n",
       "112214             37.791464            -122.391034     1087    Customer   \n",
       "151117             37.776513            -122.411306     4770  Subscriber   \n",
       "97991              37.781010            -122.405666     1299  Subscriber   \n",
       "\n",
       "        member_birth_year member_gender bike_share_for_all_trip  \n",
       "6504               1988.0          Male                      No  \n",
       "114799             1963.0          Male                      No  \n",
       "84503              1984.0          Male                      No  \n",
       "117708             1983.0          Male                      No  \n",
       "48031              1974.0          Male                      No  \n",
       "137018             1981.0        Female                      No  \n",
       "48297              1997.0          Male                      No  \n",
       "140553             1994.0        Female                      No  \n",
       "16466              1993.0        Female                      No  \n",
       "69004              1991.0        Female                      No  \n",
       "84977              1995.0          Male                      No  \n",
       "59507              1981.0          Male                      No  \n",
       "42736              1994.0        Female                      No  \n",
       "19193              1985.0          Male                      No  \n",
       "86734              1984.0        Female                      No  \n",
       "118877             1975.0          Male                      No  \n",
       "10049              1984.0          Male                      No  \n",
       "123393             1992.0          Male                      No  \n",
       "55434              1987.0          Male                      No  \n",
       "138719             1978.0          Male                     Yes  \n",
       "38373              1995.0        Female                      No  \n",
       "8551               1990.0          Male                      No  \n",
       "95607              1998.0          Male                      No  \n",
       "118210             1983.0          Male                      No  \n",
       "94093              1980.0        Female                      No  \n",
       "140337             1975.0          Male                      No  \n",
       "70750              1990.0          Male                      No  \n",
       "112214             1980.0          Male                      No  \n",
       "151117             1992.0        Female                      No  \n",
       "97991              1988.0          Male                      No  "
      ]
     },
     "execution_count": 11,
     "metadata": {},
     "output_type": "execute_result"
    }
   ],
   "source": [
    "df.sample(30)"
   ]
  },
  {
   "cell_type": "code",
   "execution_count": 12,
   "id": "supported-financing",
   "metadata": {
    "slideshow": {
     "slide_type": "skip"
    }
   },
   "outputs": [
    {
     "data": {
      "text/plain": [
       "16th St Depot                             2\n",
       "21st Ave at International Blvd            4\n",
       "Palm St at Willow St                      4\n",
       "Parker Ave at McAllister St               7\n",
       "Willow St at Vine St                      9\n",
       "Taylor St at 9th St                      13\n",
       "Backesto Park (Jackson St at 13th St)    17\n",
       "Leavenworth St at Broadway               17\n",
       "Farnam St at Fruitvale Ave               18\n",
       "23rd Ave at Foothill Blvd                18\n",
       "Name: start_station_name, dtype: int64"
      ]
     },
     "execution_count": 12,
     "metadata": {},
     "output_type": "execute_result"
    }
   ],
   "source": [
    "df.start_station_name.value_counts(ascending = True).head(10)"
   ]
  },
  {
   "cell_type": "code",
   "execution_count": 13,
   "id": "twelve-myanmar",
   "metadata": {
    "slideshow": {
     "slide_type": "skip"
    }
   },
   "outputs": [
    {
     "data": {
      "text/plain": [
       "Willow St at Vine St                5\n",
       "21st Ave at International Blvd      6\n",
       "16th St Depot                       6\n",
       "Palm St at Willow St                7\n",
       "Parker Ave at McAllister St         9\n",
       "Taylor St at 9th St                11\n",
       "Leavenworth St at Broadway         12\n",
       "Foothill Blvd at Harrington Ave    16\n",
       "26th Ave at International Blvd     19\n",
       "Foothill Blvd at 42nd Ave          20\n",
       "Name: end_station_name, dtype: int64"
      ]
     },
     "execution_count": 13,
     "metadata": {},
     "output_type": "execute_result"
    }
   ],
   "source": [
    "df.end_station_name.value_counts(ascending = True).head(10)"
   ]
  },
  {
   "cell_type": "code",
   "execution_count": 14,
   "id": "fancy-parking",
   "metadata": {
    "slideshow": {
     "slide_type": "skip"
    }
   },
   "outputs": [
    {
     "data": {
      "text/plain": [
       "Customer       19868\n",
       "Subscriber    163544\n",
       "Name: user_type, dtype: int64"
      ]
     },
     "execution_count": 14,
     "metadata": {},
     "output_type": "execute_result"
    }
   ],
   "source": [
    "df.user_type.value_counts(ascending = True).head(10)"
   ]
  },
  {
   "cell_type": "code",
   "execution_count": 15,
   "id": "medieval-toner",
   "metadata": {
    "slideshow": {
     "slide_type": "skip"
    }
   },
   "outputs": [
    {
     "data": {
      "text/plain": [
       "Other       3652\n",
       "Female     40844\n",
       "Male      130651\n",
       "Name: member_gender, dtype: int64"
      ]
     },
     "execution_count": 15,
     "metadata": {},
     "output_type": "execute_result"
    }
   ],
   "source": [
    "df.member_gender.value_counts(ascending = True)"
   ]
  },
  {
   "cell_type": "code",
   "execution_count": 16,
   "id": "vanilla-forward",
   "metadata": {
    "slideshow": {
     "slide_type": "skip"
    }
   },
   "outputs": [
    {
     "data": {
      "text/plain": [
       "Yes     17359\n",
       "No     166053\n",
       "Name: bike_share_for_all_trip, dtype: int64"
      ]
     },
     "execution_count": 16,
     "metadata": {},
     "output_type": "execute_result"
    }
   ],
   "source": [
    "df.bike_share_for_all_trip.value_counts(ascending = True).head(10)"
   ]
  },
  {
   "cell_type": "code",
   "execution_count": 17,
   "id": "expressed-sugar",
   "metadata": {
    "slideshow": {
     "slide_type": "skip"
    }
   },
   "outputs": [
    {
     "data": {
      "text/plain": [
       "0"
      ]
     },
     "execution_count": 17,
     "metadata": {},
     "output_type": "execute_result"
    }
   ],
   "source": [
    "df.duplicated().sum()"
   ]
  },
  {
   "cell_type": "markdown",
   "id": "excellent-honey",
   "metadata": {
    "slideshow": {
     "slide_type": "slide"
    }
   },
   "source": [
    "### Data Cleaning"
   ]
  },
  {
   "cell_type": "markdown",
   "id": "alpine-bronze",
   "metadata": {
    "slideshow": {
     "slide_type": "slide"
    }
   },
   "source": [
    "### To be clean\n",
    "- convert duration_sec to duration minutes to be more readable\n",
    "- start & end time to date time \n",
    "- all ids to object\n",
    "- user type category\n",
    "- birth year to object\n",
    "- gender to category\n",
    "- bike_share_for_all_trip to category\n",
    "- convert birthday year less than 1919 and it coeesponding gender to Nan.\n",
    "- rearrange columns.\n",
    "- make new column for the user age."
   ]
  },
  {
   "cell_type": "code",
   "execution_count": 18,
   "id": "secure-production",
   "metadata": {},
   "outputs": [],
   "source": [
    "df_clean = df.copy()"
   ]
  },
  {
   "cell_type": "code",
   "execution_count": 19,
   "id": "dominican-plane",
   "metadata": {},
   "outputs": [
    {
     "data": {
      "text/plain": [
       "Index(['duration_sec', 'start_time', 'end_time', 'start_station_id',\n",
       "       'start_station_name', 'start_station_latitude',\n",
       "       'start_station_longitude', 'end_station_id', 'end_station_name',\n",
       "       'end_station_latitude', 'end_station_longitude', 'bike_id', 'user_type',\n",
       "       'member_birth_year', 'member_gender', 'bike_share_for_all_trip'],\n",
       "      dtype='object')"
      ]
     },
     "execution_count": 19,
     "metadata": {},
     "output_type": "execute_result"
    }
   ],
   "source": [
    "df_clean.columns"
   ]
  },
  {
   "cell_type": "code",
   "execution_count": 20,
   "id": "ignored-bridal",
   "metadata": {
    "slideshow": {
     "slide_type": "subslide"
    }
   },
   "outputs": [],
   "source": [
    "df_clean = df_clean.rename(columns = {\"duration_sec\": \"duration_minutes\"})\n",
    "df_clean.duration_minutes = (df_clean.duration_minutes) / 60\n",
    "df_clean.start_station_id = df_clean.start_station_id.astype('str').replace('\\.0', '', regex=True)\n",
    "df_clean.end_station_id = df_clean.end_station_id.astype('str').replace('\\.0', '', regex=True)\n",
    "df_clean.bike_id = df_clean.bike_id.astype('str').replace('\\.0', '', regex=True)\n",
    "df_clean.user_type = df_clean.user_type.astype('category')\n",
    "df_clean.member_gender = df_clean.member_gender.astype('category')\n",
    "df_clean.bike_share_for_all_trip = df_clean.bike_share_for_all_trip.astype('category')\n",
    "df_clean.start_time = pd.to_datetime(df_clean.start_time)\n",
    "df_clean.end_time = pd.to_datetime(df_clean.end_time)\n",
    "df_clean.loc[df_clean['member_birth_year'] < 1919, 'member_gender'] = np.nan\n",
    "df_clean.loc[df_clean['member_birth_year'] < 1919, 'member_birth_year'] = np.nan\n"
   ]
  },
  {
   "cell_type": "code",
   "execution_count": 21,
   "id": "touched-production",
   "metadata": {},
   "outputs": [
    {
     "data": {
      "text/plain": [
       "31.0    10236\n",
       "26.0     9325\n",
       "30.0     8972\n",
       "29.0     8658\n",
       "28.0     8498\n",
       "        ...  \n",
       "85.0        2\n",
       "75.0        2\n",
       "91.0        1\n",
       "89.0        1\n",
       "92.0        1\n",
       "Name: user_age, Length: 70, dtype: int64"
      ]
     },
     "execution_count": 21,
     "metadata": {},
     "output_type": "execute_result"
    }
   ],
   "source": [
    "df_clean['user_age'] = (df_clean['end_time'].dt.year) - (df_clean.member_birth_year)\n",
    "df_clean['user_age'].value_counts()"
   ]
  },
  {
   "cell_type": "code",
   "execution_count": 22,
   "id": "silent-tuition",
   "metadata": {},
   "outputs": [],
   "source": [
    "df_clean.member_birth_year = df_clean.member_birth_year.astype('str').replace('\\.0', '', regex=True)"
   ]
  },
  {
   "cell_type": "code",
   "execution_count": 23,
   "id": "mental-police",
   "metadata": {},
   "outputs": [
    {
     "data": {
      "text/plain": [
       "Index(['duration_minutes', 'start_time', 'end_time', 'start_station_id',\n",
       "       'start_station_name', 'start_station_latitude',\n",
       "       'start_station_longitude', 'end_station_id', 'end_station_name',\n",
       "       'end_station_latitude', 'end_station_longitude', 'bike_id', 'user_type',\n",
       "       'member_birth_year', 'member_gender', 'bike_share_for_all_trip',\n",
       "       'user_age'],\n",
       "      dtype='object')"
      ]
     },
     "execution_count": 23,
     "metadata": {},
     "output_type": "execute_result"
    }
   ],
   "source": [
    "df_clean.columns"
   ]
  },
  {
   "cell_type": "code",
   "execution_count": 25,
   "id": "polished-oregon",
   "metadata": {},
   "outputs": [],
   "source": [
    "#arrange columns\n",
    "df_clean = df_clean[['duration_minutes',\n",
    "                           'start_time',\n",
    "                           'end_time', 'start_station_id','start_station_name','start_station_latitude','start_station_longitude',\n",
    "                           'end_station_id','end_station_name',\n",
    "                           'end_station_latitude','end_station_longitude','bike_id','user_type','member_birth_year','member_gender',\n",
    "                            'user_age','bike_share_for_all_trip']]"
   ]
  },
  {
   "cell_type": "code",
   "execution_count": 26,
   "id": "driving-logic",
   "metadata": {},
   "outputs": [
    {
     "name": "stdout",
     "output_type": "stream",
     "text": [
      "(183412, 17)\n"
     ]
    },
    {
     "data": {
      "text/html": [
       "<div>\n",
       "<style scoped>\n",
       "    .dataframe tbody tr th:only-of-type {\n",
       "        vertical-align: middle;\n",
       "    }\n",
       "\n",
       "    .dataframe tbody tr th {\n",
       "        vertical-align: top;\n",
       "    }\n",
       "\n",
       "    .dataframe thead th {\n",
       "        text-align: right;\n",
       "    }\n",
       "</style>\n",
       "<table border=\"1\" class=\"dataframe\">\n",
       "  <thead>\n",
       "    <tr style=\"text-align: right;\">\n",
       "      <th></th>\n",
       "      <th>duration_minutes</th>\n",
       "      <th>start_time</th>\n",
       "      <th>end_time</th>\n",
       "      <th>start_station_id</th>\n",
       "      <th>start_station_name</th>\n",
       "      <th>start_station_latitude</th>\n",
       "      <th>start_station_longitude</th>\n",
       "      <th>end_station_id</th>\n",
       "      <th>end_station_name</th>\n",
       "      <th>end_station_latitude</th>\n",
       "      <th>end_station_longitude</th>\n",
       "      <th>bike_id</th>\n",
       "      <th>user_type</th>\n",
       "      <th>member_birth_year</th>\n",
       "      <th>member_gender</th>\n",
       "      <th>user_age</th>\n",
       "      <th>bike_share_for_all_trip</th>\n",
       "    </tr>\n",
       "  </thead>\n",
       "  <tbody>\n",
       "    <tr>\n",
       "      <th>0</th>\n",
       "      <td>869.750000</td>\n",
       "      <td>2019-02-28 17:32:10.145</td>\n",
       "      <td>2019-03-01 08:01:55.975</td>\n",
       "      <td>21</td>\n",
       "      <td>Montgomery St BART Station (Market St at 2nd St)</td>\n",
       "      <td>37.789625</td>\n",
       "      <td>-122.400811</td>\n",
       "      <td>13</td>\n",
       "      <td>Commercial St at Montgomery St</td>\n",
       "      <td>37.794231</td>\n",
       "      <td>-122.402923</td>\n",
       "      <td>4902</td>\n",
       "      <td>Customer</td>\n",
       "      <td>1984</td>\n",
       "      <td>Male</td>\n",
       "      <td>35.0</td>\n",
       "      <td>No</td>\n",
       "    </tr>\n",
       "    <tr>\n",
       "      <th>1</th>\n",
       "      <td>708.683333</td>\n",
       "      <td>2019-02-28 18:53:21.789</td>\n",
       "      <td>2019-03-01 06:42:03.056</td>\n",
       "      <td>23</td>\n",
       "      <td>The Embarcadero at Steuart St</td>\n",
       "      <td>37.791464</td>\n",
       "      <td>-122.391034</td>\n",
       "      <td>81</td>\n",
       "      <td>Berry St at 4th St</td>\n",
       "      <td>37.775880</td>\n",
       "      <td>-122.393170</td>\n",
       "      <td>2535</td>\n",
       "      <td>Customer</td>\n",
       "      <td>nan</td>\n",
       "      <td>NaN</td>\n",
       "      <td>NaN</td>\n",
       "      <td>No</td>\n",
       "    </tr>\n",
       "    <tr>\n",
       "      <th>2</th>\n",
       "      <td>1030.900000</td>\n",
       "      <td>2019-02-28 12:13:13.218</td>\n",
       "      <td>2019-03-01 05:24:08.146</td>\n",
       "      <td>86</td>\n",
       "      <td>Market St at Dolores St</td>\n",
       "      <td>37.769305</td>\n",
       "      <td>-122.426826</td>\n",
       "      <td>3</td>\n",
       "      <td>Powell St BART Station (Market St at 4th St)</td>\n",
       "      <td>37.786375</td>\n",
       "      <td>-122.404904</td>\n",
       "      <td>5905</td>\n",
       "      <td>Customer</td>\n",
       "      <td>1972</td>\n",
       "      <td>Male</td>\n",
       "      <td>47.0</td>\n",
       "      <td>No</td>\n",
       "    </tr>\n",
       "    <tr>\n",
       "      <th>3</th>\n",
       "      <td>608.166667</td>\n",
       "      <td>2019-02-28 17:54:26.010</td>\n",
       "      <td>2019-03-01 04:02:36.842</td>\n",
       "      <td>375</td>\n",
       "      <td>Grove St at Masonic Ave</td>\n",
       "      <td>37.774836</td>\n",
       "      <td>-122.446546</td>\n",
       "      <td>70</td>\n",
       "      <td>Central Ave at Fell St</td>\n",
       "      <td>37.773311</td>\n",
       "      <td>-122.444293</td>\n",
       "      <td>6638</td>\n",
       "      <td>Subscriber</td>\n",
       "      <td>1989</td>\n",
       "      <td>Other</td>\n",
       "      <td>30.0</td>\n",
       "      <td>No</td>\n",
       "    </tr>\n",
       "    <tr>\n",
       "      <th>4</th>\n",
       "      <td>26.416667</td>\n",
       "      <td>2019-02-28 23:54:18.549</td>\n",
       "      <td>2019-03-01 00:20:44.074</td>\n",
       "      <td>7</td>\n",
       "      <td>Frank H Ogawa Plaza</td>\n",
       "      <td>37.804562</td>\n",
       "      <td>-122.271738</td>\n",
       "      <td>222</td>\n",
       "      <td>10th Ave at E 15th St</td>\n",
       "      <td>37.792714</td>\n",
       "      <td>-122.248780</td>\n",
       "      <td>4898</td>\n",
       "      <td>Subscriber</td>\n",
       "      <td>1974</td>\n",
       "      <td>Male</td>\n",
       "      <td>45.0</td>\n",
       "      <td>Yes</td>\n",
       "    </tr>\n",
       "  </tbody>\n",
       "</table>\n",
       "</div>"
      ],
      "text/plain": [
       "   duration_minutes              start_time                end_time  \\\n",
       "0        869.750000 2019-02-28 17:32:10.145 2019-03-01 08:01:55.975   \n",
       "1        708.683333 2019-02-28 18:53:21.789 2019-03-01 06:42:03.056   \n",
       "2       1030.900000 2019-02-28 12:13:13.218 2019-03-01 05:24:08.146   \n",
       "3        608.166667 2019-02-28 17:54:26.010 2019-03-01 04:02:36.842   \n",
       "4         26.416667 2019-02-28 23:54:18.549 2019-03-01 00:20:44.074   \n",
       "\n",
       "  start_station_id                                start_station_name  \\\n",
       "0               21  Montgomery St BART Station (Market St at 2nd St)   \n",
       "1               23                     The Embarcadero at Steuart St   \n",
       "2               86                           Market St at Dolores St   \n",
       "3              375                           Grove St at Masonic Ave   \n",
       "4                7                               Frank H Ogawa Plaza   \n",
       "\n",
       "   start_station_latitude  start_station_longitude end_station_id  \\\n",
       "0               37.789625              -122.400811             13   \n",
       "1               37.791464              -122.391034             81   \n",
       "2               37.769305              -122.426826              3   \n",
       "3               37.774836              -122.446546             70   \n",
       "4               37.804562              -122.271738            222   \n",
       "\n",
       "                               end_station_name  end_station_latitude  \\\n",
       "0                Commercial St at Montgomery St             37.794231   \n",
       "1                            Berry St at 4th St             37.775880   \n",
       "2  Powell St BART Station (Market St at 4th St)             37.786375   \n",
       "3                        Central Ave at Fell St             37.773311   \n",
       "4                         10th Ave at E 15th St             37.792714   \n",
       "\n",
       "   end_station_longitude bike_id   user_type member_birth_year member_gender  \\\n",
       "0            -122.402923    4902    Customer              1984          Male   \n",
       "1            -122.393170    2535    Customer               nan           NaN   \n",
       "2            -122.404904    5905    Customer              1972          Male   \n",
       "3            -122.444293    6638  Subscriber              1989         Other   \n",
       "4            -122.248780    4898  Subscriber              1974          Male   \n",
       "\n",
       "   user_age bike_share_for_all_trip  \n",
       "0      35.0                      No  \n",
       "1       NaN                      No  \n",
       "2      47.0                      No  \n",
       "3      30.0                      No  \n",
       "4      45.0                     Yes  "
      ]
     },
     "execution_count": 26,
     "metadata": {},
     "output_type": "execute_result"
    }
   ],
   "source": [
    "print(df_clean.shape)\n",
    "df_clean.head()"
   ]
  },
  {
   "cell_type": "code",
   "execution_count": 27,
   "id": "transsexual-pharmacology",
   "metadata": {},
   "outputs": [
    {
     "data": {
      "text/html": [
       "<div>\n",
       "<style scoped>\n",
       "    .dataframe tbody tr th:only-of-type {\n",
       "        vertical-align: middle;\n",
       "    }\n",
       "\n",
       "    .dataframe tbody tr th {\n",
       "        vertical-align: top;\n",
       "    }\n",
       "\n",
       "    .dataframe thead th {\n",
       "        text-align: right;\n",
       "    }\n",
       "</style>\n",
       "<table border=\"1\" class=\"dataframe\">\n",
       "  <thead>\n",
       "    <tr style=\"text-align: right;\">\n",
       "      <th></th>\n",
       "      <th>duration_minutes</th>\n",
       "      <th>start_time</th>\n",
       "      <th>end_time</th>\n",
       "      <th>start_station_id</th>\n",
       "      <th>start_station_name</th>\n",
       "      <th>start_station_latitude</th>\n",
       "      <th>start_station_longitude</th>\n",
       "      <th>end_station_id</th>\n",
       "      <th>end_station_name</th>\n",
       "      <th>end_station_latitude</th>\n",
       "      <th>end_station_longitude</th>\n",
       "      <th>bike_id</th>\n",
       "      <th>user_type</th>\n",
       "      <th>member_birth_year</th>\n",
       "      <th>member_gender</th>\n",
       "      <th>user_age</th>\n",
       "      <th>bike_share_for_all_trip</th>\n",
       "    </tr>\n",
       "  </thead>\n",
       "  <tbody>\n",
       "  </tbody>\n",
       "</table>\n",
       "</div>"
      ],
      "text/plain": [
       "Empty DataFrame\n",
       "Columns: [duration_minutes, start_time, end_time, start_station_id, start_station_name, start_station_latitude, start_station_longitude, end_station_id, end_station_name, end_station_latitude, end_station_longitude, bike_id, user_type, member_birth_year, member_gender, user_age, bike_share_for_all_trip]\n",
       "Index: []"
      ]
     },
     "execution_count": 27,
     "metadata": {},
     "output_type": "execute_result"
    }
   ],
   "source": [
    "df_clean.loc[df_clean['member_birth_year'] == 'nan', 'member_birth_year'] = np.nan\n",
    "df_clean[df_clean['member_birth_year'] == 'nan']"
   ]
  },
  {
   "cell_type": "code",
   "execution_count": 28,
   "id": "nonprofit-bubble",
   "metadata": {},
   "outputs": [
    {
     "name": "stdout",
     "output_type": "stream",
     "text": [
      "<class 'pandas.core.frame.DataFrame'>\n",
      "RangeIndex: 183412 entries, 0 to 183411\n",
      "Data columns (total 17 columns):\n",
      " #   Column                   Non-Null Count   Dtype         \n",
      "---  ------                   --------------   -----         \n",
      " 0   duration_minutes         183412 non-null  float64       \n",
      " 1   start_time               183412 non-null  datetime64[ns]\n",
      " 2   end_time                 183412 non-null  datetime64[ns]\n",
      " 3   start_station_id         183412 non-null  object        \n",
      " 4   start_station_name       183215 non-null  object        \n",
      " 5   start_station_latitude   183412 non-null  float64       \n",
      " 6   start_station_longitude  183412 non-null  float64       \n",
      " 7   end_station_id           183412 non-null  object        \n",
      " 8   end_station_name         183215 non-null  object        \n",
      " 9   end_station_latitude     183412 non-null  float64       \n",
      " 10  end_station_longitude    183412 non-null  float64       \n",
      " 11  bike_id                  183412 non-null  object        \n",
      " 12  user_type                183412 non-null  category      \n",
      " 13  member_birth_year        175075 non-null  object        \n",
      " 14  member_gender            175075 non-null  category      \n",
      " 15  user_age                 175075 non-null  float64       \n",
      " 16  bike_share_for_all_trip  183412 non-null  category      \n",
      "dtypes: category(3), datetime64[ns](2), float64(6), object(6)\n",
      "memory usage: 20.1+ MB\n"
     ]
    }
   ],
   "source": [
    "df_clean.info()"
   ]
  },
  {
   "cell_type": "code",
   "execution_count": 31,
   "id": "indie-occasion",
   "metadata": {
    "scrolled": true
   },
   "outputs": [
    {
     "data": {
      "text/html": [
       "<div>\n",
       "<style scoped>\n",
       "    .dataframe tbody tr th:only-of-type {\n",
       "        vertical-align: middle;\n",
       "    }\n",
       "\n",
       "    .dataframe tbody tr th {\n",
       "        vertical-align: top;\n",
       "    }\n",
       "\n",
       "    .dataframe thead th {\n",
       "        text-align: right;\n",
       "    }\n",
       "</style>\n",
       "<table border=\"1\" class=\"dataframe\">\n",
       "  <thead>\n",
       "    <tr style=\"text-align: right;\">\n",
       "      <th></th>\n",
       "      <th>duration_minutes</th>\n",
       "      <th>start_station_latitude</th>\n",
       "      <th>start_station_longitude</th>\n",
       "      <th>end_station_latitude</th>\n",
       "      <th>end_station_longitude</th>\n",
       "      <th>user_age</th>\n",
       "    </tr>\n",
       "  </thead>\n",
       "  <tbody>\n",
       "    <tr>\n",
       "      <th>count</th>\n",
       "      <td>183412.000000</td>\n",
       "      <td>183412.000000</td>\n",
       "      <td>183412.000000</td>\n",
       "      <td>183412.000000</td>\n",
       "      <td>183412.000000</td>\n",
       "      <td>175075.000000</td>\n",
       "    </tr>\n",
       "    <tr>\n",
       "      <th>mean</th>\n",
       "      <td>12.101307</td>\n",
       "      <td>37.771223</td>\n",
       "      <td>-122.352664</td>\n",
       "      <td>37.771427</td>\n",
       "      <td>-122.352250</td>\n",
       "      <td>34.158778</td>\n",
       "    </tr>\n",
       "    <tr>\n",
       "      <th>std</th>\n",
       "      <td>29.906496</td>\n",
       "      <td>0.099581</td>\n",
       "      <td>0.117097</td>\n",
       "      <td>0.099490</td>\n",
       "      <td>0.116673</td>\n",
       "      <td>9.972079</td>\n",
       "    </tr>\n",
       "    <tr>\n",
       "      <th>min</th>\n",
       "      <td>1.016667</td>\n",
       "      <td>37.317298</td>\n",
       "      <td>-122.453704</td>\n",
       "      <td>37.317298</td>\n",
       "      <td>-122.453704</td>\n",
       "      <td>18.000000</td>\n",
       "    </tr>\n",
       "    <tr>\n",
       "      <th>25%</th>\n",
       "      <td>5.416667</td>\n",
       "      <td>37.770083</td>\n",
       "      <td>-122.412408</td>\n",
       "      <td>37.770407</td>\n",
       "      <td>-122.411726</td>\n",
       "      <td>27.000000</td>\n",
       "    </tr>\n",
       "    <tr>\n",
       "      <th>50%</th>\n",
       "      <td>8.566667</td>\n",
       "      <td>37.780760</td>\n",
       "      <td>-122.398285</td>\n",
       "      <td>37.781010</td>\n",
       "      <td>-122.398279</td>\n",
       "      <td>32.000000</td>\n",
       "    </tr>\n",
       "    <tr>\n",
       "      <th>75%</th>\n",
       "      <td>13.266667</td>\n",
       "      <td>37.797280</td>\n",
       "      <td>-122.286533</td>\n",
       "      <td>37.797320</td>\n",
       "      <td>-122.288045</td>\n",
       "      <td>39.000000</td>\n",
       "    </tr>\n",
       "    <tr>\n",
       "      <th>max</th>\n",
       "      <td>1424.066667</td>\n",
       "      <td>37.880222</td>\n",
       "      <td>-121.874119</td>\n",
       "      <td>37.880222</td>\n",
       "      <td>-121.874119</td>\n",
       "      <td>99.000000</td>\n",
       "    </tr>\n",
       "  </tbody>\n",
       "</table>\n",
       "</div>"
      ],
      "text/plain": [
       "       duration_minutes  start_station_latitude  start_station_longitude  \\\n",
       "count     183412.000000           183412.000000            183412.000000   \n",
       "mean          12.101307               37.771223              -122.352664   \n",
       "std           29.906496                0.099581                 0.117097   \n",
       "min            1.016667               37.317298              -122.453704   \n",
       "25%            5.416667               37.770083              -122.412408   \n",
       "50%            8.566667               37.780760              -122.398285   \n",
       "75%           13.266667               37.797280              -122.286533   \n",
       "max         1424.066667               37.880222              -121.874119   \n",
       "\n",
       "       end_station_latitude  end_station_longitude       user_age  \n",
       "count         183412.000000          183412.000000  175075.000000  \n",
       "mean              37.771427            -122.352250      34.158778  \n",
       "std                0.099490               0.116673       9.972079  \n",
       "min               37.317298            -122.453704      18.000000  \n",
       "25%               37.770407            -122.411726      27.000000  \n",
       "50%               37.781010            -122.398279      32.000000  \n",
       "75%               37.797320            -122.288045      39.000000  \n",
       "max               37.880222            -121.874119      99.000000  "
      ]
     },
     "execution_count": 31,
     "metadata": {},
     "output_type": "execute_result"
    }
   ],
   "source": [
    "df_clean.describe()"
   ]
  },
  {
   "cell_type": "code",
   "execution_count": 32,
   "id": "better-geology",
   "metadata": {},
   "outputs": [],
   "source": [
    "df_clean .to_csv('Ford Go-bike system data.csv', index=False)"
   ]
  },
  {
   "cell_type": "markdown",
   "id": "incorporated-background",
   "metadata": {
    "slideshow": {
     "slide_type": "slide"
    }
   },
   "source": [
    "<a id='Exploratory'></a>\n",
    "## Exploratory Data Analysis"
   ]
  },
  {
   "cell_type": "code",
   "execution_count": null,
   "id": "sitting-shade",
   "metadata": {
    "slideshow": {
     "slide_type": "subslide"
    }
   },
   "outputs": [],
   "source": [
    "df_to_plot = df_clean.copy()\n",
    "df_to_plot['day'] = df_clean['start_time'].dt.day_name()\n",
    "df_to_plot['hour'] = (df_clean['start_time'].dt.hour) / 1.0\n",
    "df_to_plot_weekdays = df_to_plot.loc[df_to_plot['day'].isin(['Monday','Tuesday','Wednesday','Thursday','Friday'])]\n",
    "df_to_plot_weekends = df_to_plot.loc[df_to_plot['day'].isin(['Saturday','Sunday',])]\n"
   ]
  },
  {
   "cell_type": "markdown",
   "id": "possible-forth",
   "metadata": {
    "slideshow": {
     "slide_type": "slide"
    }
   },
   "source": [
    "### Research Question 1 (when most trips occurs , for specific hour and day ?)"
   ]
  },
  {
   "cell_type": "code",
   "execution_count": null,
   "id": "committed-atlantic",
   "metadata": {
    "slideshow": {
     "slide_type": "skip"
    }
   },
   "outputs": [],
   "source": [
    "# most day\n",
    "most_trips_day = df_to_plot.groupby('day').start_station_id.count().sort_values(ascending= False).head(10)\n",
    "most_trips_day"
   ]
  },
  {
   "cell_type": "code",
   "execution_count": null,
   "id": "aggressive-equipment",
   "metadata": {
    "slideshow": {
     "slide_type": "skip"
    }
   },
   "outputs": [],
   "source": [
    "# most hour\n",
    "most_trips_hr = df_to_plot['hour'].value_counts()\n",
    "most_trips_hr"
   ]
  },
  {
   "cell_type": "markdown",
   "id": "nutritional-sport",
   "metadata": {
    "slideshow": {
     "slide_type": "slide"
    }
   },
   "source": [
    "### Research Question 2 (in which hour , most trips occurs for weekdays vs weekends ?)"
   ]
  },
  {
   "cell_type": "code",
   "execution_count": null,
   "id": "sustained-drawing",
   "metadata": {
    "slideshow": {
     "slide_type": "skip"
    }
   },
   "outputs": [],
   "source": [
    "# most hour for weekdays\n",
    "most_trips_hr1 = df_to_plot_weekdays.groupby('hour').start_station_id.count().sort_values(ascending= False).head(6)\n",
    "most_trips_hr1"
   ]
  },
  {
   "cell_type": "code",
   "execution_count": null,
   "id": "postal-scout",
   "metadata": {
    "slideshow": {
     "slide_type": "skip"
    }
   },
   "outputs": [],
   "source": [
    "# most hour for weekends\n",
    "most_trips_hr2 = df_to_plot_weekends.groupby('hour').start_station_id.count().sort_values(ascending= False).head(6)\n",
    "most_trips_hr2"
   ]
  },
  {
   "cell_type": "markdown",
   "id": "concrete-lawsuit",
   "metadata": {
    "slideshow": {
     "slide_type": "slide"
    }
   },
   "source": [
    "### Research Question 3 (what is most user type for weekdays and weekends , and in general ?)\n"
   ]
  },
  {
   "cell_type": "code",
   "execution_count": null,
   "id": "opposite-ownership",
   "metadata": {
    "slideshow": {
     "slide_type": "skip"
    }
   },
   "outputs": [],
   "source": [
    "# most user type for weekdays\n",
    "most_trips_user1 = df_to_plot_weekdays.groupby('user_type').start_station_id.count().sort_values(ascending= False).head(10)\n",
    "most_trips_user1"
   ]
  },
  {
   "cell_type": "code",
   "execution_count": null,
   "id": "inclusive-honor",
   "metadata": {
    "slideshow": {
     "slide_type": "skip"
    }
   },
   "outputs": [],
   "source": [
    "# most user type for weekends\n",
    "most_trips_user2 = df_to_plot_weekends.groupby('user_type').start_station_id.count().sort_values(ascending= False).head(10)\n",
    "most_trips_user2"
   ]
  },
  {
   "cell_type": "code",
   "execution_count": null,
   "id": "turkish-scout",
   "metadata": {
    "slideshow": {
     "slide_type": "skip"
    }
   },
   "outputs": [],
   "source": [
    "most_trips_user = df_to_plot.groupby('user_type').start_station_id.count().sort_values(ascending= False).head(10)\n",
    "most_trips_user"
   ]
  },
  {
   "cell_type": "markdown",
   "id": "sudden-trigger",
   "metadata": {
    "slideshow": {
     "slide_type": "slide"
    }
   },
   "source": [
    "### Research Question 4 (no.of trips according to age ?)"
   ]
  },
  {
   "cell_type": "code",
   "execution_count": null,
   "id": "excited-harassment",
   "metadata": {
    "scrolled": true,
    "slideshow": {
     "slide_type": "skip"
    }
   },
   "outputs": [],
   "source": [
    "avg_trip_duration_age = df_to_plot.groupby('user_age').duration_minutes.count().sort_values(ascending= False).head(11)\n",
    "avg_trip_duration_age"
   ]
  },
  {
   "cell_type": "markdown",
   "id": "emotional-prospect",
   "metadata": {
    "slideshow": {
     "slide_type": "slide"
    }
   },
   "source": [
    "### Research Question 5 (what are most popular start stations ?)\n"
   ]
  },
  {
   "cell_type": "code",
   "execution_count": null,
   "id": "rolled-consumption",
   "metadata": {
    "slideshow": {
     "slide_type": "skip"
    }
   },
   "outputs": [],
   "source": [
    "most_start_station = df_to_plot.groupby('start_station_name').start_station_id.count().sort_values(ascending= False).head(10)\n",
    "most_start_station"
   ]
  },
  {
   "cell_type": "markdown",
   "id": "accompanied-feedback",
   "metadata": {
    "slideshow": {
     "slide_type": "slide"
    }
   },
   "source": [
    "### Research Question 6 (what are less popular start stations ?)\n"
   ]
  },
  {
   "cell_type": "code",
   "execution_count": null,
   "id": "important-capture",
   "metadata": {
    "slideshow": {
     "slide_type": "skip"
    }
   },
   "outputs": [],
   "source": [
    "less_start_station = df_to_plot.groupby('start_station_name').start_station_id.count().sort_values(ascending= True).head(10)\n",
    "less_start_station\n"
   ]
  },
  {
   "cell_type": "markdown",
   "id": "affected-lighting",
   "metadata": {
    "slideshow": {
     "slide_type": "slide"
    }
   },
   "source": [
    "### Research Question 7 (what are most popular end stations ?)\n"
   ]
  },
  {
   "cell_type": "code",
   "execution_count": null,
   "id": "amended-teacher",
   "metadata": {
    "slideshow": {
     "slide_type": "skip"
    }
   },
   "outputs": [],
   "source": [
    "most_end_station = df_to_plot.groupby('end_station_name').start_station_id.count().sort_values(ascending= False).head(10)\n",
    "most_end_station"
   ]
  },
  {
   "cell_type": "markdown",
   "id": "vital-catalog",
   "metadata": {
    "slideshow": {
     "slide_type": "slide"
    }
   },
   "source": [
    "### Research Question 8 (what are less popular end stations ?)\n"
   ]
  },
  {
   "cell_type": "code",
   "execution_count": null,
   "id": "pressing-thunder",
   "metadata": {
    "slideshow": {
     "slide_type": "skip"
    }
   },
   "outputs": [],
   "source": [
    "less_end_station = df_to_plot.groupby('end_station_name').start_station_id.count().sort_values(ascending= True).head(10)\n",
    "less_end_station"
   ]
  },
  {
   "cell_type": "markdown",
   "id": "southeast-operator",
   "metadata": {
    "slideshow": {
     "slide_type": "slide"
    }
   },
   "source": [
    "### Research Question 9 (what are most relative start and end stations ?)\n"
   ]
  },
  {
   "cell_type": "code",
   "execution_count": null,
   "id": "forced-remedy",
   "metadata": {
    "slideshow": {
     "slide_type": "skip"
    }
   },
   "outputs": [],
   "source": [
    "df_to_plot['start_end_station'] = df_to_plot.start_station_name + ' / ' +  df_to_plot.end_station_name \n",
    "\n",
    "most_relatives = df_to_plot.groupby(['start_end_station']).start_station_id.count().sort_values(ascending= False).head(10)\n",
    "most_relatives"
   ]
  },
  {
   "cell_type": "markdown",
   "id": "explicit-armor",
   "metadata": {
    "slideshow": {
     "slide_type": "slide"
    }
   },
   "source": [
    "### Research Question 10 (what are most bikes used ?)\n"
   ]
  },
  {
   "cell_type": "code",
   "execution_count": null,
   "id": "sophisticated-lodge",
   "metadata": {
    "slideshow": {
     "slide_type": "skip"
    }
   },
   "outputs": [],
   "source": [
    "most_bikes = df_to_plot.groupby('bike_id').start_station_id.count().sort_values(ascending= False).head(10)\n",
    "most_bikes"
   ]
  },
  {
   "cell_type": "markdown",
   "id": "coupled-singles",
   "metadata": {
    "slideshow": {
     "slide_type": "slide"
    }
   },
   "source": [
    "### Research Question 11 (avg duration for most bikes used ?)\n"
   ]
  },
  {
   "cell_type": "code",
   "execution_count": null,
   "id": "cloudy-october",
   "metadata": {
    "slideshow": {
     "slide_type": "skip"
    }
   },
   "outputs": [],
   "source": [
    "df_to_plot_most_used = df_to_plot.loc[df_to_plot['bike_id'].isin(['4794','4814','5014','4422','5175','5145','4450','5482','5274','4773'])]\n",
    "most_bikes_avg_dur = df_to_plot_most_used.groupby('bike_id').duration_minutes.mean().sort_values(ascending= False).head(10)\n",
    "most_bikes_avg_dur"
   ]
  },
  {
   "cell_type": "markdown",
   "id": "modular-rachel",
   "metadata": {
    "slideshow": {
     "slide_type": "slide"
    }
   },
   "source": [
    "### Research Question 12 (the most bikes which shred all trip ?)\n"
   ]
  },
  {
   "cell_type": "code",
   "execution_count": null,
   "id": "eligible-treasury",
   "metadata": {
    "slideshow": {
     "slide_type": "skip"
    }
   },
   "outputs": [],
   "source": [
    "df_to_plot_all_trip = df_to_plot.loc[df_to_plot['bike_share_for_all_trip'].isin(['Yes'])]\n",
    "bikes_all_trip = df_to_plot_all_trip.groupby(['bike_id']).bike_share_for_all_trip.count().sort_values(ascending= False).head(10)\n",
    "bikes_all_trip"
   ]
  },
  {
   "cell_type": "markdown",
   "id": "atmospheric-motivation",
   "metadata": {
    "slideshow": {
     "slide_type": "slide"
    }
   },
   "source": [
    "### Research Question 13 (the average duration when bike share all trip vs don't share all trip ?)\n"
   ]
  },
  {
   "cell_type": "code",
   "execution_count": null,
   "id": "impaired-summer",
   "metadata": {
    "slideshow": {
     "slide_type": "skip"
    }
   },
   "outputs": [],
   "source": [
    "dur = df_to_plot.groupby(['bike_share_for_all_trip']).duration_minutes.mean().sort_values(ascending= False).head(10)\n",
    "dur"
   ]
  },
  {
   "cell_type": "markdown",
   "id": "looking-subsection",
   "metadata": {
    "slideshow": {
     "slide_type": "slide"
    }
   },
   "source": [
    "### Research Question 14 (the average age when bike share all trip vs don't share all trip ?)\n"
   ]
  },
  {
   "cell_type": "code",
   "execution_count": null,
   "id": "superior-sudan",
   "metadata": {
    "scrolled": true,
    "slideshow": {
     "slide_type": "skip"
    }
   },
   "outputs": [],
   "source": [
    "avg_age = df_to_plot.groupby(['bike_share_for_all_trip']).user_age.mean().sort_values(ascending= False).head(10)\n",
    "avg_age"
   ]
  },
  {
   "cell_type": "code",
   "execution_count": null,
   "id": "graduate-graham",
   "metadata": {
    "slideshow": {
     "slide_type": "skip"
    }
   },
   "outputs": [],
   "source": [
    "df_to_plot.columns"
   ]
  },
  {
   "cell_type": "markdown",
   "id": "fixed-eleven",
   "metadata": {
    "slideshow": {
     "slide_type": "slide"
    }
   },
   "source": [
    "### Research Question 15 (the age for each gender ?)\n"
   ]
  },
  {
   "cell_type": "code",
   "execution_count": null,
   "id": "peripheral-collection",
   "metadata": {
    "scrolled": true,
    "slideshow": {
     "slide_type": "skip"
    }
   },
   "outputs": [],
   "source": [
    "avg_age_gender = df_to_plot.groupby(['member_gender']).user_age.mean().sort_values(ascending= False).head(10)\n",
    "avg_age_gender"
   ]
  },
  {
   "cell_type": "markdown",
   "id": "celtic-investigation",
   "metadata": {
    "slideshow": {
     "slide_type": "slide"
    }
   },
   "source": [
    "### Research Question 16 ( the duration time vs user type?)\n"
   ]
  },
  {
   "cell_type": "code",
   "execution_count": null,
   "id": "essential-manufacturer",
   "metadata": {
    "slideshow": {
     "slide_type": "skip"
    }
   },
   "outputs": [],
   "source": [
    "type_dur = df_to_plot.groupby(['user_type']).duration_minutes.mean().sort_values(ascending= False).head(10)\n",
    "type_dur"
   ]
  },
  {
   "cell_type": "markdown",
   "id": "parental-oxide",
   "metadata": {
    "slideshow": {
     "slide_type": "slide"
    }
   },
   "source": [
    "### Research Question 17 ( the duration time vs gender? )\n"
   ]
  },
  {
   "cell_type": "code",
   "execution_count": null,
   "id": "twenty-principle",
   "metadata": {
    "slideshow": {
     "slide_type": "skip"
    }
   },
   "outputs": [],
   "source": [
    "gender_dur = df_to_plot.groupby(['member_gender']).duration_minutes.mean().sort_values(ascending= False).head(10)\n",
    "gender_dur"
   ]
  },
  {
   "cell_type": "markdown",
   "id": "packed-stanford",
   "metadata": {
    "slideshow": {
     "slide_type": "slide"
    }
   },
   "source": [
    "### Research Question 18 (which ginder has most trips ?)\n"
   ]
  },
  {
   "cell_type": "code",
   "execution_count": null,
   "id": "demanding-logistics",
   "metadata": {
    "scrolled": true,
    "slideshow": {
     "slide_type": "skip"
    }
   },
   "outputs": [],
   "source": [
    "most_gender_dur = df_to_plot.groupby('member_gender').duration_minutes.count().sort_values(ascending= False).head(10)\n",
    "most_gender_dur"
   ]
  },
  {
   "cell_type": "markdown",
   "id": "protecting-justice",
   "metadata": {
    "slideshow": {
     "slide_type": "slide"
    }
   },
   "source": [
    "### Research Question 19 (the proportion if the bike share for all trip or not ?)\n"
   ]
  },
  {
   "cell_type": "code",
   "execution_count": null,
   "id": "stretch-stage",
   "metadata": {
    "slideshow": {
     "slide_type": "skip"
    }
   },
   "outputs": [],
   "source": [
    "all_trip_por= df_to_plot.groupby('bike_share_for_all_trip').duration_minutes.count().sort_values(ascending= False).head(10)\n",
    "all_trip_por"
   ]
  },
  {
   "cell_type": "markdown",
   "id": "lovely-orbit",
   "metadata": {
    "slideshow": {
     "slide_type": "slide"
    }
   },
   "source": [
    "### Research Question 20 (the relation between duration , bike share all trip and gender ?)\n"
   ]
  },
  {
   "cell_type": "code",
   "execution_count": null,
   "id": "auburn-ordering",
   "metadata": {
    "slideshow": {
     "slide_type": "skip"
    }
   },
   "outputs": [],
   "source": [
    "relation1 = df_to_plot.groupby(['bike_share_for_all_trip','member_gender']).duration_minutes.mean().sort_values(ascending= False).head(10)\n",
    "relation1"
   ]
  },
  {
   "cell_type": "markdown",
   "id": "honey-wrist",
   "metadata": {
    "slideshow": {
     "slide_type": "slide"
    }
   },
   "source": [
    "### Research Question 21 (the relation between duration , gender and user type ?)\n"
   ]
  },
  {
   "cell_type": "code",
   "execution_count": null,
   "id": "periodic-taiwan",
   "metadata": {
    "slideshow": {
     "slide_type": "skip"
    }
   },
   "outputs": [],
   "source": [
    "relation3 = df_to_plot.groupby(['member_gender','user_type']).duration_minutes.mean().sort_values(ascending= False).head(10)\n",
    "relation3"
   ]
  },
  {
   "cell_type": "markdown",
   "id": "brown-volunteer",
   "metadata": {
    "slideshow": {
     "slide_type": "slide"
    }
   },
   "source": [
    "### Research Question 24 (the relation between no. of trips , gender and user type ?)\n"
   ]
  },
  {
   "cell_type": "code",
   "execution_count": null,
   "id": "mexican-absorption",
   "metadata": {
    "slideshow": {
     "slide_type": "skip"
    }
   },
   "outputs": [],
   "source": [
    "relation4 = df_to_plot.groupby(['member_gender','user_type']).duration_minutes.count().sort_values(ascending= False).head(10)\n",
    "relation4"
   ]
  },
  {
   "cell_type": "markdown",
   "id": "responsible-strike",
   "metadata": {
    "slideshow": {
     "slide_type": "slide"
    }
   },
   "source": [
    "### Research Question 25 (the relation between no. of trips , if bike share for all trip and user type ?)\n"
   ]
  },
  {
   "cell_type": "code",
   "execution_count": null,
   "id": "headed-bradford",
   "metadata": {
    "slideshow": {
     "slide_type": "skip"
    }
   },
   "outputs": [],
   "source": [
    "relation5 = df_to_plot.groupby(['bike_share_for_all_trip','user_type']).duration_minutes.count().sort_values(ascending= False).head(10)\n",
    "relation5"
   ]
  },
  {
   "cell_type": "markdown",
   "id": "automated-ireland",
   "metadata": {
    "slideshow": {
     "slide_type": "slide"
    }
   },
   "source": [
    "### Research Question 26 (the relation trip duration and no.of trips?)\n"
   ]
  },
  {
   "cell_type": "code",
   "execution_count": null,
   "id": "victorian-advance",
   "metadata": {
    "slideshow": {
     "slide_type": "skip"
    }
   },
   "outputs": [],
   "source": [
    "relation5 = df_to_plot.groupby(['duration_minutes']).duration_minutes.count().sort_values(ascending= False).head(10)\n",
    "relation5"
   ]
  },
  {
   "cell_type": "markdown",
   "id": "fifty-standard",
   "metadata": {
    "slideshow": {
     "slide_type": "slide"
    }
   },
   "source": [
    "### Research Question 27 (the relation trip duration and user age?)\n"
   ]
  },
  {
   "cell_type": "code",
   "execution_count": null,
   "id": "sexual-thomas",
   "metadata": {
    "slideshow": {
     "slide_type": "skip"
    }
   },
   "outputs": [],
   "source": [
    "relation6 = df_to_plot.groupby(['user_age']).duration_minutes.mean().sort_values(ascending= False).head(10)\n",
    "relation6"
   ]
  },
  {
   "cell_type": "markdown",
   "id": "regulation-filing",
   "metadata": {
    "slideshow": {
     "slide_type": "slide"
    }
   },
   "source": [
    "<a id='Explanatory'></a>\n",
    "## Explanatory"
   ]
  },
  {
   "cell_type": "markdown",
   "id": "induced-windows",
   "metadata": {
    "slideshow": {
     "slide_type": "slide"
    }
   },
   "source": [
    "### Findining 1 : The most number of trips occurs on thrusday with percentage of 19.2% of total number of trips."
   ]
  },
  {
   "cell_type": "code",
   "execution_count": null,
   "id": "graduate-trance",
   "metadata": {
    "slideshow": {
     "slide_type": "subslide"
    }
   },
   "outputs": [],
   "source": [
    "base_color = sb.color_palette()[0]\n",
    "sb.countplot(data=df_to_plot, x='day', color=base_color, order= most_trips_day.index);\n",
    "n_trips = df_to_plot['day'].value_counts().sum()\n",
    "\n",
    "locs, labels = plt.xticks(rotation=90);\n",
    "for loc, label in zip(locs, labels):\n",
    "\n",
    "    count = most_trips_day[label.get_text()]\n",
    "    pct_string = '{:0.1f}%'.format(100*count/n_trips)\n",
    "\n",
    "    plt.text(loc, count+2, pct_string, ha = 'center', color = 'black')\n",
    "plt.xlabel('Day');\n",
    "plt.ylim((10000,40000));\n",
    "\n",
    "plt.title('No. of trips for each day');\n",
    "\n",
    "from matplotlib import rcParams\n",
    "rcParams['figure.figsize'] = 12,8"
   ]
  },
  {
   "cell_type": "markdown",
   "id": "enormous-condition",
   "metadata": {
    "slideshow": {
     "slide_type": "slide"
    }
   },
   "source": [
    "### Findining 2: The use of bikes occurs most in the hours to go to work (7.00, 8.00, 9.00) and the hours to leave work (16.00, 17.00, 18.00), the time to go at 8 am and leave at 5.00 pm is the peak time for bike use . \n"
   ]
  },
  {
   "cell_type": "code",
   "execution_count": null,
   "id": "useful-hawaiian",
   "metadata": {
    "slideshow": {
     "slide_type": "subslide"
    }
   },
   "outputs": [],
   "source": [
    "base_color = sb.color_palette()[0]\n",
    "hr_order = most_trips_hr.index\n",
    "n_trips = df_to_plot['hour'].value_counts().sum()\n",
    "max_hr = most_trips_hr.iloc[0]\n",
    "max_prop = max_hr / n_trips\n",
    "tick_props = np.arange(0, max_prop, 0.02)\n",
    "tick_names = ['{:0.2f}'.format(v) for v in tick_props]\n",
    "sb.countplot(data=df_to_plot, y='hour', color=base_color, order=hr_order);\n",
    "for i in range (most_trips_hr.shape[0]):\n",
    "    count = most_trips_hr.iloc[i]\n",
    "    pct_string = '{:0.1f}'.format(100*count/n_trips)\n",
    "    plt.text(count+1, i, pct_string, va='center')\n",
    "    \n",
    "ticks = np.arange(0,23000,1000)\n",
    "labels = ['{}'.format(v) for v in ticks]    \n",
    "plt.xticks(ticks, labels,rotation=45);\n",
    "plt.ylabel('Hour');\n",
    "plt.title('No. of trips in day hours');\n",
    "\n",
    "from matplotlib import rcParams\n",
    "rcParams['figure.figsize'] = 12,7"
   ]
  },
  {
   "cell_type": "markdown",
   "id": "needed-mining",
   "metadata": {
    "slideshow": {
     "slide_type": "slide"
    }
   },
   "source": [
    "### Findining 3: Unlike the weekdays , in holdays (weekends) The use of bikes occurs most in the hours of the mid-day from 11.00 A.m to 4.00 P.M . \n"
   ]
  },
  {
   "cell_type": "code",
   "execution_count": null,
   "id": "compound-arcade",
   "metadata": {
    "slideshow": {
     "slide_type": "subslide"
    }
   },
   "outputs": [],
   "source": [
    "plt.figure(figsize = [20, 5])\n",
    "\n",
    "plt.subplot(1, 2, 1) \n",
    "base_color = sb.color_palette()[0]\n",
    "hr_order1 = most_trips_hr1.index\n",
    "n_trips1 = df_to_plot_weekdays['hour'].value_counts().sum()\n",
    "max_hr1 = most_trips_hr1.iloc[0]\n",
    "max_prop = max_hr1 / n_trips1\n",
    "tick_props = np.arange(0, max_prop, 0.02)\n",
    "tick_names = ['{:0.2f}'.format(v) for v in tick_props]\n",
    "sb.countplot(data=df_to_plot_weekdays, y='hour', color=base_color, order=hr_order1);\n",
    "for i in range (most_trips_hr1.shape[0]):\n",
    "    count = most_trips_hr1.iloc[i]\n",
    "    pct_string = '{:0.1f}'.format(100*count/n_trips1)\n",
    "    plt.text(count+1, i, pct_string, va='center')\n",
    "    \n",
    "ticks = np.arange(0,23000,500)\n",
    "labels = ['{}'.format(v) for v in ticks]    \n",
    "plt.xticks(ticks, labels,rotation=45);\n",
    "plt.ylabel('Hour');\n",
    "plt.xlim((9000,21000));\n",
    "plt.title('No. of trips in weekdays hours');\n",
    "\n",
    "from matplotlib import rcParams\n",
    "rcParams['figure.figsize'] = 12,7\n",
    "\n",
    "\n",
    "plt.subplot(1, 2, 2) \n",
    "base_color = sb.color_palette()[0]\n",
    "hr_order2 = most_trips_hr2.index\n",
    "n_trips2 = df_to_plot_weekends['hour'].value_counts().sum()\n",
    "max_hr2 = most_trips_hr2.iloc[0]\n",
    "max_prop = max_hr2 / n_trips2\n",
    "tick_props = np.arange(0, max_prop, 0.02)\n",
    "tick_names = ['{:0.2f}'.format(v) for v in tick_props]\n",
    "sb.countplot(data=df_to_plot_weekends, y='hour', color=base_color, order=hr_order2);\n",
    "for i in range (most_trips_hr2.shape[0]):\n",
    "    count = most_trips_hr2.iloc[i]\n",
    "    pct_string = '{:0.1f}'.format(100*count/n_trips2)\n",
    "    plt.text(count+1, i, pct_string, va='center')\n",
    "    \n",
    "ticks = np.arange(0,3000,50)\n",
    "labels = ['{}'.format(v) for v in ticks]    \n",
    "plt.xticks(ticks, labels,rotation=45);\n",
    "plt.ylabel('Hour');\n",
    "plt.xlim((2400,3000));\n",
    "plt.title('No. of trips in weekends hours');\n",
    "\n",
    "from matplotlib import rcParams\n",
    "rcParams['figure.figsize'] = 12,7"
   ]
  },
  {
   "cell_type": "markdown",
   "id": "sweet-broadcasting",
   "metadata": {
    "slideshow": {
     "slide_type": "slide"
    }
   },
   "source": [
    "### Findining 4: Subscribers are the largest proportion of bikes users with percentage of 89.2% of users. "
   ]
  },
  {
   "cell_type": "code",
   "execution_count": null,
   "id": "premium-plaza",
   "metadata": {
    "slideshow": {
     "slide_type": "subslide"
    }
   },
   "outputs": [],
   "source": [
    "sorted_counts = df_to_plot['user_type'].value_counts()\n",
    "explode = (0, 0.1) \n",
    "\n",
    "plt.pie(sorted_counts, labels = sorted_counts.index, explode=explode, autopct='%1.1f%%', startangle = 90, counterclock = False);\n",
    "\n",
    "plt.axis('square');\n",
    "plt.legend();\n",
    "plt.title('Proportion of users');"
   ]
  },
  {
   "cell_type": "markdown",
   "id": "sufficient-diana",
   "metadata": {
    "slideshow": {
     "slide_type": "slide"
    }
   },
   "source": [
    "### Findining 5: In weekends the percentage of customer users almost doubled to be 18.2% instead of 9.3% in weekdays ."
   ]
  },
  {
   "cell_type": "code",
   "execution_count": null,
   "id": "valuable-comedy",
   "metadata": {
    "slideshow": {
     "slide_type": "subslide"
    }
   },
   "outputs": [],
   "source": [
    "plt.subplot(1, 2, 1) \n",
    "sorted_counts1 = df_to_plot_weekdays['user_type'].value_counts()\n",
    "explode = (0, 0.1) \n",
    "\n",
    "plt.pie(sorted_counts1, labels = sorted_counts1.index, explode=explode, autopct='%1.1f%%', startangle = 90, counterclock = False);\n",
    "\n",
    "plt.axis('square');\n",
    "plt.legend();\n",
    "plt.title('Users in weekdays');\n",
    "\n",
    "plt.subplot(1, 2, 2) \n",
    "sorted_counts2 = df_to_plot_weekends['user_type'].value_counts()\n",
    "explode = (0, 0.1) \n",
    "\n",
    "plt.pie(sorted_counts2, labels = sorted_counts2.index, explode=explode, autopct='%1.1f%%', startangle = 90, counterclock = False);\n",
    "plt.legend();\n",
    "plt.title('Users in weekends');\n",
    "\n",
    "plt.axis('square');"
   ]
  },
  {
   "cell_type": "markdown",
   "id": "french-configuration",
   "metadata": {
    "slideshow": {
     "slide_type": "slide"
    }
   },
   "source": [
    "### Findining 6: Most of bike-share users are in the age from 24 to 34  ."
   ]
  },
  {
   "cell_type": "code",
   "execution_count": null,
   "id": "unsigned-bullet",
   "metadata": {
    "slideshow": {
     "slide_type": "subslide"
    }
   },
   "outputs": [],
   "source": [
    "plt.figure(figsize = [12, 5]) \n",
    "\n",
    "bins = np.arange(0, df_to_plot['user_age'].max()+2, 2)\n",
    "plt.hist(data = df_to_plot, x = 'user_age', bins = bins , rwidth = 0.7);\n",
    "plt.xlabel('User Age');\n",
    "plt.ylabel('Count');\n",
    "plt.xlim((15,80));"
   ]
  },
  {
   "cell_type": "markdown",
   "id": "proud-template",
   "metadata": {
    "slideshow": {
     "slide_type": "slide"
    }
   },
   "source": [
    "### Findining 7: Unlike males and females, The count of trips for gender of (other) has different  distribution  according to age ."
   ]
  },
  {
   "cell_type": "code",
   "execution_count": null,
   "id": "sealed-liverpool",
   "metadata": {
    "slideshow": {
     "slide_type": "subslide"
    }
   },
   "outputs": [],
   "source": [
    "plt.figure(figsize = [12, 5]) \n",
    "\n",
    "bins = np.arange(0, df_to_plot['user_age'].max()+2, 2)\n",
    "\n",
    "g = sb.FacetGrid(data = df_to_plot, col = 'member_gender',sharey=False);\n",
    "g.map(plt.hist, \"user_age\", bins = bins );\n",
    "\n",
    "plt.xlim((15,80));"
   ]
  },
  {
   "cell_type": "markdown",
   "id": "special-continent",
   "metadata": {
    "slideshow": {
     "slide_type": "slide"
    }
   },
   "source": [
    "### Findining 8: The most number of trips for subscribers and customers almost happened in the same age period."
   ]
  },
  {
   "cell_type": "code",
   "execution_count": null,
   "id": "elementary-billion",
   "metadata": {
    "slideshow": {
     "slide_type": "subslide"
    }
   },
   "outputs": [],
   "source": [
    "plt.figure(figsize = [12, 5]);\n",
    "bins = np.arange(0, df_to_plot['user_age'].max()+2, 2);\n",
    "\n",
    "g = sb.FacetGrid(data = df_to_plot, col = 'user_type',sharey=False);\n",
    "g.map(plt.hist, \"user_age\", bins = bins );\n",
    "plt.xlim((15,80));"
   ]
  },
  {
   "cell_type": "markdown",
   "id": "painted-secretariat",
   "metadata": {
    "slideshow": {
     "slide_type": "slide"
    }
   },
   "source": [
    "### Findining 9: The relation between age and trip count if bike share all trip or not  ."
   ]
  },
  {
   "cell_type": "code",
   "execution_count": null,
   "id": "living-caution",
   "metadata": {
    "slideshow": {
     "slide_type": "subslide"
    }
   },
   "outputs": [],
   "source": [
    "plt.figure(figsize = [12, 5]) ;\n",
    "\n",
    "bins = np.arange(0, df_to_plot['user_age'].max()+2, 2)\n",
    "\n",
    "g = sb.FacetGrid(data = df_to_plot, col = 'bike_share_for_all_trip',sharey=False);\n",
    "g.map(plt.hist, \"user_age\", bins = bins );\n",
    "\n",
    "plt.xlim((15,80));"
   ]
  },
  {
   "cell_type": "markdown",
   "id": "sublime-community",
   "metadata": {
    "slideshow": {
     "slide_type": "slide"
    }
   },
   "source": [
    "### Findining 10 : The largest start station in trips count is Market St at 10th St  with 3904 trips  ."
   ]
  },
  {
   "cell_type": "code",
   "execution_count": null,
   "id": "coordinated-wisdom",
   "metadata": {
    "slideshow": {
     "slide_type": "subslide"
    }
   },
   "outputs": [],
   "source": [
    "base_color = sb.color_palette()[0]\n",
    "\n",
    "m_order = most_start_station.index\n",
    "ax = sb.countplot(data=df_to_plot, y='start_station_name', color=base_color, order=m_order);\n",
    "\n",
    "for index, value in enumerate(most_start_station):\n",
    "    plt.text(value, index,\n",
    "             str(value))\n",
    "            \n",
    "ticks = np.arange(2000,4200,100)\n",
    "labels = ['{}'.format(v) for v in ticks]    \n",
    "plt.xticks(ticks, labels,rotation=45);\n",
    "plt.ylabel('Start Station');    \n",
    "plt.xlim((2000,4200));\n",
    "plt.title('No. of trips for top 10 popular start stations');\n",
    "\n",
    "from matplotlib import rcParams\n",
    "rcParams['figure.figsize'] = 15,8"
   ]
  },
  {
   "cell_type": "markdown",
   "id": "second-surname",
   "metadata": {
    "slideshow": {
     "slide_type": "slide"
    }
   },
   "source": [
    "### Findining 11 : The less used start station is 16th St Depot  with only 2 trips  ."
   ]
  },
  {
   "cell_type": "code",
   "execution_count": null,
   "id": "under-plant",
   "metadata": {
    "slideshow": {
     "slide_type": "subslide"
    }
   },
   "outputs": [],
   "source": [
    "base_color = sb.color_palette()[0]\n",
    "\n",
    "l_order = less_start_station.index\n",
    "ax = sb.countplot(data=df_to_plot, y='start_station_name', color=base_color, order=l_order);\n",
    "\n",
    "for index, value in enumerate(less_start_station):\n",
    "    plt.text(value, index,\n",
    "             str(value))\n",
    "            \n",
    "ticks = np.arange(0,21,1)\n",
    "labels = ['{}'.format(v) for v in ticks]    \n",
    "plt.xticks(ticks, labels,rotation=45);\n",
    "plt.ylabel('Start Station');    \n",
    "plt.xlim((0,21));\n",
    "plt.title('No. of trips for less 10 popular start stations');\n",
    "\n",
    "from matplotlib import rcParams\n",
    "rcParams['figure.figsize'] = 15,8"
   ]
  },
  {
   "cell_type": "markdown",
   "id": "informative-upset",
   "metadata": {
    "slideshow": {
     "slide_type": "slide"
    }
   },
   "source": [
    "### Findining 12 : The largest end station in trips count is San Francisco Caltrain Station 2  (Townsend St at 4th St)  with 4875 trips  ."
   ]
  },
  {
   "cell_type": "code",
   "execution_count": null,
   "id": "color-guest",
   "metadata": {
    "slideshow": {
     "slide_type": "subslide"
    }
   },
   "outputs": [],
   "source": [
    "base_color = sb.color_palette()[0]\n",
    "\n",
    "m_end_order = most_end_station.index\n",
    "ax = sb.countplot(data=df_to_plot, y='end_station_name', color=base_color, order=m_end_order);\n",
    "\n",
    "for index, value in enumerate(most_end_station):\n",
    "    plt.text(value, index,\n",
    "             str(value))\n",
    "            \n",
    "ticks = np.arange(2000,5100,100)\n",
    "labels = ['{}'.format(v) for v in ticks]    \n",
    "plt.xticks(ticks, labels,rotation=45);\n",
    "plt.ylabel('End Station');    \n",
    "plt.xlim((2100,5000));\n",
    "plt.title('No. of trips for top 10 popular end stations');\n",
    "\n",
    "from matplotlib import rcParams\n",
    "rcParams['figure.figsize'] = 15,8"
   ]
  },
  {
   "cell_type": "markdown",
   "id": "wound-blend",
   "metadata": {
    "slideshow": {
     "slide_type": "slide"
    }
   },
   "source": [
    "### Findining 13 : The less used end station is Willow St at Vine Stt  with only 5 trips  ."
   ]
  },
  {
   "cell_type": "code",
   "execution_count": null,
   "id": "genetic-relief",
   "metadata": {
    "slideshow": {
     "slide_type": "subslide"
    }
   },
   "outputs": [],
   "source": [
    "base_color = sb.color_palette()[0]\n",
    "\n",
    "l_s_order = less_end_station.index\n",
    "ax = sb.countplot(data=df_to_plot, y='end_station_name', color=base_color, order=l_s_order);\n",
    "\n",
    "for index, value in enumerate(less_end_station):\n",
    "    plt.text(value, index,\n",
    "             str(value))\n",
    "            \n",
    "ticks = np.arange(0,21,1)\n",
    "labels = ['{}'.format(v) for v in ticks]    \n",
    "plt.xticks(ticks, labels,rotation=45);\n",
    "\n",
    "plt.ylabel('End Station');    \n",
    "plt.xlim((3,21));\n",
    "plt.title('No. of trips for less 10 popular end stations');\n",
    "\n",
    "from matplotlib import rcParams\n",
    "rcParams['figure.figsize'] = 15,8"
   ]
  },
  {
   "cell_type": "markdown",
   "id": "immune-theater",
   "metadata": {
    "slideshow": {
     "slide_type": "slide"
    }
   },
   "source": [
    "### Findining 14 : The most relative start and end station happen when Berry St at 4th St  is the start station and San Francisco Ferry Building (Harry Bridges Plaza) is the end station with total number of trips : 337 trips."
   ]
  },
  {
   "cell_type": "code",
   "execution_count": null,
   "id": "absent-lucas",
   "metadata": {
    "slideshow": {
     "slide_type": "subslide"
    }
   },
   "outputs": [],
   "source": [
    "base_color = sb.color_palette()[0]\n",
    "\n",
    "m_r_order = most_relatives.index\n",
    "ax = sb.countplot(data=df_to_plot, y='start_end_station', color=base_color, order=m_r_order);\n",
    "\n",
    "for index, value in enumerate(most_relatives):\n",
    "    plt.text(value, index,\n",
    "             str(value))\n",
    "            \n",
    "ticks = np.arange(0,350,10)\n",
    "labels = ['{}'.format(v) for v in ticks]    \n",
    "plt.xticks(ticks, labels,rotation=45);\n",
    "\n",
    "plt.ylabel('Start and end Station');    \n",
    "plt.xlim((230,350));\n",
    "plt.title('No. of trips for top 10 realtive start and end stations');\n",
    "\n",
    "from matplotlib import rcParams\n",
    "rcParams['figure.figsize'] = 15,8"
   ]
  },
  {
   "cell_type": "markdown",
   "id": "coral-member",
   "metadata": {
    "slideshow": {
     "slide_type": "slide"
    }
   },
   "source": [
    "### Findining 15 : The most bike used in ford go-bike system is bike with ID 4794 with total trips : 191 trips."
   ]
  },
  {
   "cell_type": "code",
   "execution_count": null,
   "id": "quiet-cycling",
   "metadata": {
    "slideshow": {
     "slide_type": "subslide"
    }
   },
   "outputs": [],
   "source": [
    "base_color = sb.color_palette()[0]\n",
    "\n",
    "bikes_order = most_bikes.index\n",
    "ax = sb.countplot(data=df_to_plot, y='bike_id', color=base_color, order=bikes_order);\n",
    "\n",
    "for index, value in enumerate(most_bikes):\n",
    "    plt.text(value, index,\n",
    "             str(value))\n",
    "            \n",
    "ticks = np.arange(0,210,2)\n",
    "labels = ['{}'.format(v) for v in ticks]    \n",
    "plt.xticks(ticks, labels,rotation=90);\n",
    "plt.ylabel('Bike ID');    \n",
    "plt.xlim((168,193));\n",
    "plt.title('No. of trips for top 10 used bikes ');\n",
    "\n",
    "from matplotlib import rcParams\n",
    "rcParams['figure.figsize'] = 15,8"
   ]
  },
  {
   "cell_type": "markdown",
   "id": "wireless-holmes",
   "metadata": {
    "slideshow": {
     "slide_type": "slide"
    }
   },
   "source": [
    "### Findining 16 : The most bikes used has centre duration time for trip around 10 minutes and trip duartion range from 5 to 15 minutes."
   ]
  },
  {
   "cell_type": "code",
   "execution_count": null,
   "id": "sporting-olive",
   "metadata": {
    "slideshow": {
     "slide_type": "subslide"
    }
   },
   "outputs": [],
   "source": [
    "plt.figure(figsize = [10, 5])\n",
    "base_color = sb.color_palette()[0]\n",
    "sb.boxplot(data=df_to_plot_most_used, x='bike_id', y='duration_minutes', color=base_color)\n",
    "plt.ylim(0,30);\n",
    "plt.ylabel('Duration minutes');    \n",
    "plt.xlabel('Most bikes used IDs'); \n",
    "plt.title('Duration distribution for top 10 bikes used');"
   ]
  },
  {
   "cell_type": "markdown",
   "id": "conscious-young",
   "metadata": {
    "slideshow": {
     "slide_type": "slide"
    }
   },
   "source": [
    "### Findining 17 : The trips with duration range from 3 to 8 minutes have the largest count of trips in bike-share system."
   ]
  },
  {
   "cell_type": "code",
   "execution_count": null,
   "id": "acceptable-basics",
   "metadata": {
    "slideshow": {
     "slide_type": "subslide"
    }
   },
   "outputs": [],
   "source": [
    "plt.figure(figsize = [12, 5]) \n",
    "\n",
    "bins = np.arange(0, df_to_plot['duration_minutes'].max()+1, 1)\n",
    "plt.hist(data = df_to_plot, x = 'duration_minutes', bins = bins , rwidth = 0.7);\n",
    "plt.xlabel('Duration minutes');\n",
    "plt.ylabel('Count');\n",
    "plt.xlim((1,40));"
   ]
  },
  {
   "cell_type": "markdown",
   "id": "behavioral-control",
   "metadata": {
    "slideshow": {
     "slide_type": "slide"
    }
   },
   "source": [
    "### Findining 18: The count of trips for trip duaration according to user gender ."
   ]
  },
  {
   "cell_type": "code",
   "execution_count": null,
   "id": "beautiful-funeral",
   "metadata": {
    "slideshow": {
     "slide_type": "subslide"
    }
   },
   "outputs": [],
   "source": [
    "plt.figure(figsize = [12, 5]) \n",
    "\n",
    "bins = np.arange(0, df_to_plot['duration_minutes'].max()+1, 1)\n",
    "\n",
    "g = sb.FacetGrid(data = df_to_plot, col = 'member_gender',sharey=False);\n",
    "g.map(plt.hist, \"duration_minutes\", bins = bins );\n",
    "\n",
    "plt.xlim((1,50));\n"
   ]
  },
  {
   "cell_type": "markdown",
   "id": "successful-empire",
   "metadata": {
    "slideshow": {
     "slide_type": "slide"
    }
   },
   "source": [
    "### Findining 19: The most number of trips for subscribers happen in less time duration than customers  ."
   ]
  },
  {
   "cell_type": "code",
   "execution_count": null,
   "id": "asian-month",
   "metadata": {
    "slideshow": {
     "slide_type": "subslide"
    }
   },
   "outputs": [],
   "source": [
    "plt.figure(figsize = [12, 5]) \n",
    "\n",
    "bins = np.arange(0, df_to_plot['duration_minutes'].max()+1, 1)\n",
    "\n",
    "g = sb.FacetGrid(data = df_to_plot, col = 'user_type',sharey=False);\n",
    "g.map(plt.hist, \"duration_minutes\", bins = bins );\n",
    "\n",
    "plt.xlim((1,50));\n"
   ]
  },
  {
   "cell_type": "markdown",
   "id": "sustainable-wholesale",
   "metadata": {
    "slideshow": {
     "slide_type": "slide"
    }
   },
   "source": [
    "### Findining 20 : The relation between time duration and trip count if bike share all trip or not  ."
   ]
  },
  {
   "cell_type": "code",
   "execution_count": null,
   "id": "proprietary-excellence",
   "metadata": {
    "slideshow": {
     "slide_type": "subslide"
    }
   },
   "outputs": [],
   "source": [
    "plt.figure(figsize = [12, 5]) \n",
    "\n",
    "bins = np.arange(0, df_to_plot['duration_minutes'].max()+1, 1)\n",
    "\n",
    "g = sb.FacetGrid(data = df_to_plot, col = 'bike_share_for_all_trip',sharey=False);\n",
    "g.map(plt.hist, \"duration_minutes\", bins = bins );\n",
    "\n",
    "plt.xlim((1,50));"
   ]
  },
  {
   "cell_type": "markdown",
   "id": "filled-calvin",
   "metadata": {
    "slideshow": {
     "slide_type": "slide"
    }
   },
   "source": [
    "### Findining 21 : the most bike used when bike shared all trip is bike with ID 3967 with total trips : 91 trips."
   ]
  },
  {
   "cell_type": "code",
   "execution_count": null,
   "id": "fifteen-dating",
   "metadata": {
    "slideshow": {
     "slide_type": "subslide"
    }
   },
   "outputs": [],
   "source": [
    "base_color = sb.color_palette()[0]\n",
    "\n",
    "bikes_order1 = bikes_all_trip.index\n",
    "ax = sb.countplot(data=df_to_plot_all_trip, y='bike_id', color=base_color, order=bikes_order1);\n",
    "\n",
    "for index, value in enumerate(bikes_all_trip):\n",
    "    plt.text(value, index,\n",
    "             str(value))\n",
    "            \n",
    "ticks = np.arange(0,105,5)\n",
    "labels = ['{}'.format(v) for v in ticks]    \n",
    "plt.xticks(ticks, labels,rotation=90);\n",
    "plt.ylabel('Bike ID');    \n",
    "plt.xlim((55,100));\n",
    "plt.title('No. of trips for top 10 used bikes when bike share all trip');\n",
    "\n",
    "from matplotlib import rcParams\n",
    "rcParams['figure.figsize'] = 15,8"
   ]
  },
  {
   "cell_type": "markdown",
   "id": "iraqi-antigua",
   "metadata": {
    "slideshow": {
     "slide_type": "slide"
    }
   },
   "source": [
    "### Findining 22 : The trip duration for bikes that don't share all trip is larger than bikes that share all trip."
   ]
  },
  {
   "cell_type": "code",
   "execution_count": null,
   "id": "fixed-future",
   "metadata": {
    "scrolled": true,
    "slideshow": {
     "slide_type": "subslide"
    }
   },
   "outputs": [],
   "source": [
    "\n",
    "plt.figure(figsize = [10, 5])\n",
    "base_color = sb.color_palette()[0]\n",
    "sb.boxplot(data=df_to_plot, x='bike_share_for_all_trip', y='duration_minutes', color=base_color)\n",
    "plt.ylim(0,30);\n",
    "plt.ylabel('Duration minutes');    \n",
    "plt.xlabel('Is bike share for all trip ?'); \n"
   ]
  },
  {
   "cell_type": "markdown",
   "id": "later-stuart",
   "metadata": {
    "slideshow": {
     "slide_type": "slide"
    }
   },
   "source": [
    "### Findining 23 : Bikes which don't share all trip has percentage 90.5% of total bikes used ."
   ]
  },
  {
   "cell_type": "code",
   "execution_count": null,
   "id": "twelve-diana",
   "metadata": {
    "slideshow": {
     "slide_type": "subslide"
    }
   },
   "outputs": [],
   "source": [
    "sorted_counts = df_to_plot['bike_share_for_all_trip'].value_counts()\n",
    "explode = (0, 0.1) \n",
    "\n",
    "plt.pie(sorted_counts, labels = sorted_counts.index, explode=explode, autopct='%1.1f%%', startangle = 90, counterclock = False);\n",
    "\n",
    "plt.axis('square');\n",
    "plt.title('Is bike share for all trip ?'); \n",
    "plt.legend();"
   ]
  },
  {
   "cell_type": "markdown",
   "id": "infinite-listing",
   "metadata": {
    "slideshow": {
     "slide_type": "slide"
    }
   },
   "source": [
    "### Findining 24 : User age when using bike don't share all trip is larger thang user age using bike share all trip ."
   ]
  },
  {
   "cell_type": "code",
   "execution_count": null,
   "id": "failing-angola",
   "metadata": {
    "slideshow": {
     "slide_type": "subslide"
    }
   },
   "outputs": [],
   "source": [
    "base_color = sb.color_palette()[0]\n",
    "\n",
    "sb.violinplot(data=df_to_plot, x='bike_share_for_all_trip', y='user_age', color=base_color, inner='quartile')\n",
    "\n",
    "ticks = np.arange(0,105,5)\n",
    "labels = ['{}'.format(v) for v in ticks]    \n",
    "plt.yticks(ticks, labels,rotation=90);\n",
    "plt.ylabel('User Age');    \n",
    "plt.xlabel('Is bike share for all trip ?'); "
   ]
  },
  {
   "cell_type": "markdown",
   "id": "broken-discussion",
   "metadata": {
    "slideshow": {
     "slide_type": "slide"
    }
   },
   "source": [
    "### Findining 25 : Age distribution for each gender ."
   ]
  },
  {
   "cell_type": "code",
   "execution_count": null,
   "id": "royal-lexington",
   "metadata": {
    "slideshow": {
     "slide_type": "subslide"
    }
   },
   "outputs": [],
   "source": [
    "base_color = sb.color_palette()[0]\n",
    "\n",
    "sb.violinplot(data=df_to_plot, x='member_gender', y='user_age', color=base_color, inner='quartile')\n",
    "\n",
    "ticks = np.arange(0,105,5)\n",
    "labels = ['{}'.format(v) for v in ticks]    \n",
    "plt.yticks(ticks, labels,rotation=90);\n",
    "plt.ylabel('User Age');    \n",
    "plt.xlabel('Member gender');"
   ]
  },
  {
   "cell_type": "markdown",
   "id": "returning-payment",
   "metadata": {
    "slideshow": {
     "slide_type": "slide"
    }
   },
   "source": [
    "### Findining 26 : Trip duration time for customers is larger than subscribers ."
   ]
  },
  {
   "cell_type": "code",
   "execution_count": null,
   "id": "needed-breakfast",
   "metadata": {
    "slideshow": {
     "slide_type": "subslide"
    }
   },
   "outputs": [],
   "source": [
    "plt.figure(figsize = [10, 5])\n",
    "base_color = sb.color_palette()[0]\n",
    "sb.boxplot(data=df_to_plot, x='user_type', y='duration_minutes', color=base_color)\n",
    "plt.ylim(0,45);\n",
    "plt.ylabel('Duration time');    \n",
    "plt.xlabel('User type');"
   ]
  },
  {
   "cell_type": "markdown",
   "id": "spatial-passage",
   "metadata": {
    "slideshow": {
     "slide_type": "slide"
    }
   },
   "source": [
    "### Findining 27 : Trip duration time for each gender ."
   ]
  },
  {
   "cell_type": "code",
   "execution_count": null,
   "id": "perceived-camel",
   "metadata": {
    "slideshow": {
     "slide_type": "subslide"
    }
   },
   "outputs": [],
   "source": [
    "plt.figure(figsize = [10, 5])\n",
    "base_color = sb.color_palette()[0]\n",
    "sb.boxplot(data=df_to_plot, x='member_gender', y='duration_minutes', color=base_color)\n",
    "plt.ylim(0,30);\n",
    "plt.ylabel('Duration time');    \n",
    "plt.xlabel('Member gender');"
   ]
  },
  {
   "cell_type": "markdown",
   "id": "intelligent-pastor",
   "metadata": {
    "slideshow": {
     "slide_type": "slide"
    }
   },
   "source": [
    "### Findining 28 : Males are more used for ford go-bike system.\n"
   ]
  },
  {
   "cell_type": "code",
   "execution_count": null,
   "id": "collaborative-gender",
   "metadata": {
    "slideshow": {
     "slide_type": "subslide"
    }
   },
   "outputs": [],
   "source": [
    "plt.pie(most_gender_dur, labels = most_gender_dur.index, autopct='%1.1f%%', startangle = 90, counterclock = False);\n",
    "\n",
    "plt.axis('square');\n",
    "plt.legend();"
   ]
  },
  {
   "cell_type": "markdown",
   "id": "wanted-nursing",
   "metadata": {
    "slideshow": {
     "slide_type": "slide"
    }
   },
   "source": [
    "### Findining 29 : Subscriber males are more used for ford go-bike system by 119069 trips.\n"
   ]
  },
  {
   "cell_type": "code",
   "execution_count": null,
   "id": "sublime-republic",
   "metadata": {
    "slideshow": {
     "slide_type": "subslide"
    }
   },
   "outputs": [],
   "source": [
    "ct_counts = df_to_plot.groupby(['member_gender', 'user_type']).size()\n",
    "ct_counts = ct_counts.reset_index(name='count')\n",
    "ct_counts = ct_counts.pivot(index = 'member_gender', columns = 'user_type', values = 'count')\n",
    "sb.heatmap(ct_counts, annot = True, fmt = 'd');\n",
    "plt.ylabel('Member gender');    \n",
    "plt.xlabel('User type');\n",
    "plt.title('No. of trips for combination of gender and user type');"
   ]
  },
  {
   "cell_type": "markdown",
   "id": "placed-capture",
   "metadata": {
    "slideshow": {
     "slide_type": "slide"
    }
   },
   "source": [
    "### Findining 30 : \n",
    "### - there are no customers to use bikes for share all trip.\n",
    "### - subscribers who use bikes don't share all trip are the most with 146185 trips."
   ]
  },
  {
   "cell_type": "code",
   "execution_count": null,
   "id": "civilian-juice",
   "metadata": {
    "slideshow": {
     "slide_type": "subslide"
    }
   },
   "outputs": [],
   "source": [
    "ct_counts = df_to_plot.groupby(['user_type', 'bike_share_for_all_trip']).size()\n",
    "ct_counts = ct_counts.reset_index(name='count')\n",
    "ct_counts = ct_counts.pivot(index = 'user_type', columns = 'bike_share_for_all_trip', values = 'count')\n",
    "sb.heatmap(ct_counts, annot = True, fmt = 'd');\n",
    "plt.ylabel('User type');    \n",
    "plt.xlabel('bike share for all trip ?');\n",
    "plt.title('No. of trips for combination of user type and is bike share all trip');"
   ]
  },
  {
   "cell_type": "markdown",
   "id": "crazy-thong",
   "metadata": {
    "slideshow": {
     "slide_type": "slide"
    }
   },
   "source": [
    "### Findining 31 : Males who use bikes don't share all trip are the most with 117510 trips.\n"
   ]
  },
  {
   "cell_type": "code",
   "execution_count": null,
   "id": "perceived-coverage",
   "metadata": {
    "slideshow": {
     "slide_type": "subslide"
    }
   },
   "outputs": [],
   "source": [
    "ct_counts = df_to_plot.groupby(['member_gender', 'bike_share_for_all_trip']).size()\n",
    "ct_counts = ct_counts.reset_index(name='count')\n",
    "ct_counts = ct_counts.pivot(index = 'member_gender', columns = 'bike_share_for_all_trip', values = 'count')\n",
    "sb.heatmap(ct_counts, annot = True, fmt = 'd');\n",
    "plt.ylabel('Member gender');    \n",
    "plt.xlabel('bike share for all trip ?');\n",
    "plt.title('No. of trips for combination of gender and is bike share all trip');"
   ]
  },
  {
   "cell_type": "markdown",
   "id": "electronic-praise",
   "metadata": {
    "slideshow": {
     "slide_type": "slide"
    }
   },
   "source": [
    "### Findining 32 : The relation between duration time for trips and user age.\n"
   ]
  },
  {
   "cell_type": "code",
   "execution_count": null,
   "id": "renewable-sight",
   "metadata": {
    "slideshow": {
     "slide_type": "subslide"
    }
   },
   "outputs": [],
   "source": [
    "plt.figure(figsize = [18, 6])\n",
    "bins_x = np.arange(0.6, 100+4,4)\n",
    "bins_y = np.arange(12, 100+4, 4)\n",
    "\n",
    "plt.hist2d(data = df_to_plot, x = 'duration_minutes', y = 'user_age',cmin=0.5, cmap='viridis_r',bins = [bins_x, bins_y])\n",
    "plt.colorbar()\n",
    "plt.xlabel('Duration')\n",
    "plt.ylabel('User Age');\n",
    "plt.xlim((1,40));\n",
    "plt.title('The relation between trip Duration and the age of user');"
   ]
  },
  {
   "cell_type": "markdown",
   "id": "accessible-walter",
   "metadata": {
    "slideshow": {
     "slide_type": "slide"
    }
   },
   "source": [
    "### Findining 33 : The mean time duration of trip for gender(other) which use bike don't share all trip is the largest with 17 minutes.\n"
   ]
  },
  {
   "cell_type": "code",
   "execution_count": null,
   "id": "steady-father",
   "metadata": {
    "slideshow": {
     "slide_type": "subslide"
    }
   },
   "outputs": [],
   "source": [
    "cat_means1 = df_to_plot.groupby(['member_gender', 'bike_share_for_all_trip']).mean()['duration_minutes']\n",
    "cat_means1 = cat_means1.reset_index(name = 'duration_minutes_avg')\n",
    "cat_means1 = cat_means1.pivot(index = 'bike_share_for_all_trip', columns = 'member_gender',\n",
    "                            values = 'duration_minutes_avg');\n",
    "sb.heatmap(cat_means1, annot = True, fmt = '.3f',\n",
    "           cbar_kws = {'label' : 'Mean( Duratin minutes)'});\n",
    "plt.title('Avg. time duration for combination of gender and is bike share all trip');"
   ]
  },
  {
   "cell_type": "markdown",
   "id": "built-profession",
   "metadata": {
    "slideshow": {
     "slide_type": "slide"
    }
   },
   "source": [
    "### Findining 34 : The mean time duration of trip for gender(other) and  customer is the largest with 26.5 minutes."
   ]
  },
  {
   "cell_type": "code",
   "execution_count": null,
   "id": "turkish-teacher",
   "metadata": {
    "slideshow": {
     "slide_type": "subslide"
    }
   },
   "outputs": [],
   "source": [
    "cat_means2 = df_to_plot.groupby(['member_gender', 'user_type']).mean()['duration_minutes']\n",
    "cat_means2 = cat_means2.reset_index(name = 'duration_minutes_avg')\n",
    "cat_means2 = cat_means2.pivot(index = 'user_type', columns = 'member_gender',\n",
    "                            values = 'duration_minutes_avg');\n",
    "sb.heatmap(cat_means2, annot = True, fmt = '.3f',\n",
    "           cbar_kws = {'label' : 'Mean( Duratin minutes)'});\n",
    "plt.title('Avg. time duration for combination of gender and user type');"
   ]
  },
  {
   "cell_type": "markdown",
   "id": "macro-pittsburgh",
   "metadata": {
    "slideshow": {
     "slide_type": "slide"
    }
   },
   "source": [
    "### Findining 35 : The mean age for gender(other) which use bike share all trip is the largest with 36.2 years in average."
   ]
  },
  {
   "cell_type": "code",
   "execution_count": null,
   "id": "fatal-delta",
   "metadata": {
    "slideshow": {
     "slide_type": "subslide"
    }
   },
   "outputs": [],
   "source": [
    "cat_means3 = df_to_plot.groupby(['member_gender', 'bike_share_for_all_trip']).mean()['user_age']\n",
    "cat_means3 = cat_means3.reset_index(name = 'user_age_avg')\n",
    "cat_means3 = cat_means3.pivot(index = 'bike_share_for_all_trip', columns = 'member_gender',\n",
    "                            values = 'user_age_avg');\n",
    "sb.heatmap(cat_means3, annot = True, fmt = '.3f',\n",
    "           cbar_kws = {'label' : 'Mean( User Age)'});\n",
    "plt.title('Avg. age for combination of gender and is bike share all trip');"
   ]
  },
  {
   "cell_type": "markdown",
   "id": "forward-wrapping",
   "metadata": {
    "slideshow": {
     "slide_type": "slide"
    }
   },
   "source": [
    "### Findining 36 : The mean age for gender(other) and subscriber is the largest with 36 years in average."
   ]
  },
  {
   "cell_type": "code",
   "execution_count": null,
   "id": "rotary-quality",
   "metadata": {
    "slideshow": {
     "slide_type": "subslide"
    }
   },
   "outputs": [],
   "source": [
    "cat_means3 = df_to_plot.groupby(['member_gender', 'user_type']).mean()['user_age']\n",
    "cat_means3 = cat_means3.reset_index(name = 'user_age_avg')\n",
    "cat_means3 = cat_means3.pivot(index = 'user_type', columns = 'member_gender',\n",
    "                            values = 'user_age_avg');\n",
    "sb.heatmap(cat_means3, annot = True, fmt = '.3f',\n",
    "           cbar_kws = {'label' : 'Mean( User Age)'});\n",
    "plt.title('Avg. age for combination of gender and user type');"
   ]
  },
  {
   "cell_type": "markdown",
   "id": "unavailable-witness",
   "metadata": {
    "slideshow": {
     "slide_type": "slide"
    }
   },
   "source": [
    "<a id='Conclusions'></a>\n",
    "\n",
    "## Conclusions\n",
    "\n",
    "#### After loading data from CSV file of Ford Go-bike system Dataset, i started assessing data visually and programatically to be cleaned and I found some limitations i need to handle it before starting analysis , for instance : \n",
    "\n",
    "- convert duration_sec to duration minutes to be more readable\n",
    "- convert start & end time to date time\n",
    "- convert all ids to object\n",
    "- make new column to start and end stations location\n",
    "- convert user type category\n",
    "- convert birth year to object\n",
    "- convert gender to category\n",
    "- convert bike_share_for_all_trip to category\n",
    "- convert birthday year less than 1919 and it coeesponding gender to Nan.\n",
    "- rearrange columns.\n",
    "- make new column for the user age.\n",
    "- i didn't drop or change the data with Nan value for start and end stations name and id because all other data are existed.\n",
    "- the data of gender and birth year for about 8265 rides are dropped from the source CSV file but i decided to accept it.\n",
    "\n",
    "\n",
    "#### After cleaning the data i started to pose questions and analyze data , here the most important findings afte explanatory:\n",
    "\n",
    "\n",
    "\n",
    "\n",
    "- 1 : The most number of trips occurs on thrusday with percentage of 19.2% of total number of trips.\n",
    "- 2 : The use of bikes occurs most in the hours to go to work (7.00, 8.00, 9.00) and the hours to leave work (16.00, 17.00, 18.00), the time to go at 8 am and leave at 5.00 pm is the peak time for bike use .\n",
    "- 3: Unlike the weekdays , in holdays (weekends) The use of bikes occurs most in the hours of the mid-day from 11.00 A.m to 4.00 P.M\n",
    "- 4: Subscribers are the largest proportion of bikes users with percentage of 89.2% of users and in weekends the percentage of customer users almost doubled. \n",
    "- 5 : Most of bike-share users are in the age from 24 to 34  .\n",
    "- 6 : The largest start station in trips count is Market St at 10th St  with 3904 trips.\n",
    "- 7 : The less used start station is 16th St Depot  with only 2 trips .\n",
    "- 8 : The largest end station in trips count is San Francisco Caltrain Station 2  (Townsend St at 4th St)  with 4875 trips.\n",
    "- 9 : The less used end station is Willow St at Vine Stt  with only 5 trips  .\n",
    "- 10 : The most relative start and end station happen when Berry St at 4th St  is the start station and San Francisco Ferry Building (Harry Bridges Plaza) is the end station with total number of trips : 337 trips. \n",
    "- 11 : The most bike used in ford go-bike system is bike with ID 4794 with total trips : 191 trips.\n",
    "- 12 : The trips with duration range from 3 to 8 minutes have the largest count of trips in bike-share system.\n",
    "- 13: The most number of trips for subscribers happen in less time duration than customers  .\n",
    "- 14 : the most bike used when bike shared all trip is bike with ID 3967 with total trips : 91 trips.\n",
    "- 15 : The trip duration for bikes that don't share all trip is larger than bikes that share all trip.\n",
    "- 16 : Bikes which don't share all trip has percentage 90.5% of total bikes used .\n",
    "- 17 : User age when using bike don't share all trip is larger thang user age using bike share all trip .\n",
    "- 18 : Trip duration time for customers is larger than subscribers .\n",
    "- 19 : Males are more used for ford go-bike system.\n",
    "- 20 : Subscriber males are more used for ford go-bike system by 119069 trips.\n",
    "- 21 : there are no customers to use bikes for share all trip.\n",
    "- 22 :  subscribers who use bikes don't share all trip are the most with 146185 trips.\n",
    "- 23 : Males who use bikes don't share all trip are the most with 117510 trips.\n",
    "- 24 : The mean time duration of trip for gender(other) which use bike don't share all trip is the largest with 17 minutes.\n",
    "- 25 : The mean time duration of trip for gender(other) and  customer is the largest with 26.5 minutes.\n",
    "- 26 : The mean age for gender(other) which use bike share all trip is the largest with 36.2 years in average.\n",
    "- 27 : The mean age for gender(other) and subscriber is the largest with 36 years in average"
   ]
  }
 ],
 "metadata": {
  "kernelspec": {
   "display_name": "Python 3",
   "language": "python",
   "name": "python3"
  }
 },
 "nbformat": 4,
 "nbformat_minor": 5
}
